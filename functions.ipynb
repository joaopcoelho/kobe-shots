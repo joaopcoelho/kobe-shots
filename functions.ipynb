{
 "cells": [
  {
   "cell_type": "code",
   "execution_count": 1,
   "metadata": {
    "collapsed": true
   },
   "outputs": [],
   "source": [
    "#convert shot flags to colors\n",
    "def flag_colors(flag):\n",
    "    if flag == 1: return 'green'\n",
    "    if flag == 0: return 'red'\n",
    "    return 'black'"
   ]
  },
  {
   "cell_type": "code",
   "execution_count": 3,
   "metadata": {
    "collapsed": true
   },
   "outputs": [],
   "source": [
    "# convert matchup string to Home=1, away=0\n",
    "# example: LAL @ POR: home=0\n",
    "# example: LAL vs. POR: home=1\n",
    "def get_home_away(string):\n",
    "    if '@' in string: return 0 #away\n",
    "    elif 'vs' in string : return 1 #home\n",
    "    else: return \"ACORDA CRL\""
   ]
  },
  {
   "cell_type": "code",
   "execution_count": 4,
   "metadata": {
    "collapsed": true
   },
   "outputs": [],
   "source": [
    "# convert season in format '1999-00' to \n",
    "# example: '1999-00': 3\n",
    "def get_season_num(year):\n",
    "    # year is in format '2009-10'\n",
    "    year0 = 1996\n",
    "    y = year[:4]\n",
    "    y_int = int(y)\n",
    "    \n",
    "    return y_int - year0\n",
    "\n",
    "#quick asserts\n",
    "#assert get_season_num('2010-11') == 14\n",
    "#assert get_home_away('LAL @ POR') == 0\n",
    "#assert get_home_away('LAL vs UTA') == 1    "
   ]
  },
  {
   "cell_type": "code",
   "execution_count": 5,
   "metadata": {
    "collapsed": true
   },
   "outputs": [],
   "source": [
    "def write_kaggle_submission(df, probs, output_file='kobe_submission.csv'):\n",
    "    \"\"\"\n",
    "    write output to kaggle format (for kobe competition)\n",
    "    \n",
    "    Input:\n",
    "        df (pandas dataframe): dataframe used for predicting probabilities\n",
    "        probs (numpy array): array of probability values\n",
    "        \n",
    "    Output:\n",
    "        None\n",
    "    \n",
    "    Side effects:\n",
    "        creates csv file \"output_file\"\n",
    "        \n",
    "    Comments:\n",
    "        number of rows in df should match size of probs array\n",
    "    \"\"\"\n",
    "\n",
    "    # create new Series with df indexes as shot_id and probs values as shot_made_flag\n",
    "    \n",
    "    data_values = probs\n",
    "    index_values = df.index.values +1\n",
    "    data_dict = {'shot_id': index_values, 'shot_made_flag': data_values}\n",
    "    \n",
    "    df_towrite = pd.DataFrame(data = data_dict)\n",
    "    \n",
    "    df_towrite.to_csv(output_file, header=True, index=False)\n",
    "    \n",
    "    return"
   ]
  },
  {
   "cell_type": "code",
   "execution_count": 6,
   "metadata": {
    "collapsed": true
   },
   "outputs": [],
   "source": [
    "def logloss(act, pred):\n",
    "    \"\"\"\n",
    "    logloss function\n",
    "    imported from kaggle evalutation\n",
    "    \"\"\"\n",
    "    epsilon = 1e-15\n",
    "    pred = sp.maximum(epsilon, pred)\n",
    "    pred = sp.minimum(1-epsilon, pred)\n",
    "    ll = sum(act*sp.log(pred) + sp.subtract(1,act)*sp.log(sp.subtract(1,pred)))\n",
    "    ll = ll * -1.0/len(act)\n",
    "    return ll"
   ]
  },
  {
   "cell_type": "code",
   "execution_count": null,
   "metadata": {
    "collapsed": true
   },
   "outputs": [],
   "source": [
    "def preprocess(original_data, shot_made_flag=False):\n",
    "    \"\"\"\n",
    "    Pre-processing of dataframe into desired form\n",
    "    \n",
    "    Input:\n",
    "        original_data (Pandas dataframe): original data from which the final dataframe will be formed\n",
    "        shot_made_flag (boolean): whether to include labels (shot made) or not\n",
    "    \n",
    "    Output:\n",
    "        df (pandas dataframe): the dataframe in final form\n",
    "\n",
    "    Comments:\n",
    "        highly overfit to kobe shot selection problem\n",
    "        \n",
    "    \"\"\"\n",
    "    \n",
    "    # select relevant features\n",
    "    feature_list = ['loc_x', 'loc_y', 'shot_distance', 'period', 'season', 'minutes_remaining', 'seconds_remaining', \n",
    "           'matchup']\n",
    "    \n",
    "    if shot_made_flag is True:\n",
    "        feature_list.append('shot_made_flag')\n",
    "    \n",
    "    df = original_data[feature_list].copy()\n",
    "    \n",
    "    # modify selected features\n",
    "    \n",
    "    # convert shot_distance from feet to meters\n",
    "    df.loc[:,'shot_distance'] = df['shot_distance'].apply(lambda x: x*0.3048)    \n",
    "    \n",
    "    # add angle feature and clean NaN by assuming angle=0 when distance=0\n",
    "    df.loc[:,'angle'] = pd.Series(np.degrees(np.arctan(df['loc_x']/df['loc_y'])))\n",
    "    df['angle'].fillna(0, inplace=True)\n",
    "\n",
    "    # convert matchup to Home/Away (Home=0, Away=1)\n",
    "    df.loc[:, 'Home'] = df['matchup'].apply(get_home_away)    \n",
    "\n",
    "    # convert seasons to first, second etc\n",
    "    # needs: convert to date \n",
    "    df.loc[:,'season'] = df['season'].apply(get_season_num)\n",
    "\n",
    "    # convert minutes + seconds remaining to time remaining in quarter (in seconds)\n",
    "    df.loc[:, 'time_remaining'] = df['minutes_remaining']*60 + df['seconds_remaining']\n",
    "\n",
    "    # clean dataframe\n",
    "    cols_to_delete = ['loc_x', 'loc_y', 'minutes_remaining', 'seconds_remaining', 'matchup']\n",
    "    df.drop(cols_to_delete, axis=1, inplace=True)\n",
    "    \n",
    "    # clean NaN in shot_made_flag column\n",
    "    df.dropna(axis=0, how='any', inplace=True)\n",
    "\n",
    "    # make sure no NaNs in dm\n",
    "    assert df.isnull().any().any()==False    \n",
    "    \n",
    "    return df\n",
    "    "
   ]
  }
 ],
 "metadata": {
  "kernelspec": {
   "display_name": "Python 2",
   "language": "python",
   "name": "python2"
  },
  "language_info": {
   "codemirror_mode": {
    "name": "ipython",
    "version": 2
   },
   "file_extension": ".py",
   "mimetype": "text/x-python",
   "name": "python",
   "nbconvert_exporter": "python",
   "pygments_lexer": "ipython2",
   "version": "2.7.11"
  }
 },
 "nbformat": 4,
 "nbformat_minor": 0
}
