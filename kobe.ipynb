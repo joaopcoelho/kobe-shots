{
 "cells": [
  {
   "cell_type": "code",
   "execution_count": null,
   "metadata": {
    "collapsed": false
   },
   "outputs": [],
   "source": [
    "import pandas as pd\n",
    "import numpy as np\n",
    "import matplotlib.pyplot as plt\n",
    "import seaborn as sns\n",
    "import time\n",
    "\n",
    "from sklearn import neighbors\n",
    "from sklearn.cross_validation import train_test_split\n",
    "\n",
    "%matplotlib inline"
   ]
  },
  {
   "cell_type": "markdown",
   "metadata": {},
   "source": [
    "# Useful functions"
   ]
  },
  {
   "cell_type": "code",
   "execution_count": null,
   "metadata": {
    "collapsed": true
   },
   "outputs": [],
   "source": [
    "#convert shot flags to colors\n",
    "def flag_colors(flag):\n",
    "    if flag == 1: return 'green'\n",
    "    if flag == 0: return 'red'\n",
    "    return 'black'"
   ]
  },
  {
   "cell_type": "code",
   "execution_count": null,
   "metadata": {
    "collapsed": false
   },
   "outputs": [],
   "source": [
    "# convert matchup string to Home=1, away=0\n",
    "# example: LAL @ POR: home=0\n",
    "# example: LAL vs. POR: home=1\n",
    "def get_home_away(string):\n",
    "    if '@' in string: return 0 #away\n",
    "    elif 'vs' in string : return 1 #home\n",
    "    else: return \"ACORDA CRL\""
   ]
  },
  {
   "cell_type": "code",
   "execution_count": null,
   "metadata": {
    "collapsed": true
   },
   "outputs": [],
   "source": [
    "# convert season in format '1999-00' to \n",
    "# example: '1999-00': 3\n",
    "def get_season_num(year):\n",
    "    # year is in format '2009-10'\n",
    "    year0 = 1996\n",
    "    y = year[:4]\n",
    "    y_int = int(y)\n",
    "    \n",
    "    return y_int - year0\n",
    "\n",
    "#quick asserts\n",
    "assert get_season_num('2010-11') == 14\n",
    "assert get_home_away('LAL @ POR') == 0\n",
    "assert get_home_away('LAL vs UTA') == 1    "
   ]
  },
  {
   "cell_type": "markdown",
   "metadata": {},
   "source": [
    "# Import data"
   ]
  },
  {
   "cell_type": "code",
   "execution_count": null,
   "metadata": {
    "collapsed": false
   },
   "outputs": [],
   "source": [
    "data = pd.read_csv('data.csv')\n",
    "data.head()"
   ]
  },
  {
   "cell_type": "code",
   "execution_count": null,
   "metadata": {
    "collapsed": false
   },
   "outputs": [],
   "source": [
    "list(data.columns.values)"
   ]
  },
  {
   "cell_type": "markdown",
   "metadata": {},
   "source": [
    "# Notes"
   ]
  },
  {
   "cell_type": "markdown",
   "metadata": {},
   "source": [
    "* Can we improve the missing data strategy?\n",
    "* Are all the limitations to algorithm application verified?\n",
    "\n",
    "* prevent leakage: train only on shots prior to the ones we're predicting (year)\n",
    "* select features and then explore number of neighbours\n",
    "\n",
    "* target: score=0.75"
   ]
  },
  {
   "cell_type": "markdown",
   "metadata": {},
   "source": [
    "# Preprocessing"
   ]
  },
  {
   "cell_type": "code",
   "execution_count": null,
   "metadata": {
    "collapsed": false
   },
   "outputs": [],
   "source": [
    "# TRAINING AND TEST DATA\n",
    "train_data, test_data = train_test_split(data, test_size = 0.2, random_state = 0)"
   ]
  },
  {
   "cell_type": "code",
   "execution_count": null,
   "metadata": {
    "collapsed": false
   },
   "outputs": [],
   "source": [
    "# MISSING DATA\n",
    "# don't consider rows with shot_made_flag = NaN\n",
    "train_data = train_data[np.isfinite(train_data['shot_made_flag'])]\n",
    "test_data = test_data[np.isfinite(test_data['shot_made_flag'])]"
   ]
  },
  {
   "cell_type": "markdown",
   "metadata": {},
   "source": [
    "   # Exploring features"
   ]
  },
  {
   "cell_type": "markdown",
   "metadata": {},
   "source": [
    "### Correlation matrix"
   ]
  },
  {
   "cell_type": "code",
   "execution_count": null,
   "metadata": {
    "collapsed": false
   },
   "outputs": [],
   "source": [
    "cm = data.corr()\n",
    "cm.loc['shot_made_flag']"
   ]
  },
  {
   "cell_type": "markdown",
   "metadata": {},
   "source": [
    "### Opponent"
   ]
  },
  {
   "cell_type": "code",
   "execution_count": null,
   "metadata": {
    "collapsed": false
   },
   "outputs": [],
   "source": [
    "total_shots = pd.pivot_table(data, index=\"opponent\", values=\"shot_id\", aggfunc='count')\n",
    "shots_scored = pd.pivot_table(data, index=\"opponent\", values=\"shot_made_flag\", aggfunc='sum')\n",
    "\n",
    "accuracy = shots_scored/total_shots"
   ]
  },
  {
   "cell_type": "code",
   "execution_count": null,
   "metadata": {
    "collapsed": false
   },
   "outputs": [],
   "source": [
    "accuracy.plot.bar(title='Kobe Bryant\\n% by opponent')"
   ]
  },
  {
   "cell_type": "markdown",
   "metadata": {},
   "source": [
    "#### Comments:"
   ]
  },
  {
   "cell_type": "markdown",
   "metadata": {},
   "source": [
    "* xxx"
   ]
  },
  {
   "cell_type": "markdown",
   "metadata": {},
   "source": [
    "### Shots by distance"
   ]
  },
  {
   "cell_type": "code",
   "execution_count": null,
   "metadata": {
    "collapsed": false
   },
   "outputs": [],
   "source": [
    "total_distance = pd.pivot_table(data, index=\"shot_distance\", values=\"shot_id\", aggfunc='count')\n",
    "shots_scored = pd.pivot_table(data, index=\"shot_distance\", values=\"shot_made_flag\", aggfunc='sum')\n",
    "\n",
    "accuracy = shots_scored/total_distance"
   ]
  },
  {
   "cell_type": "code",
   "execution_count": null,
   "metadata": {
    "collapsed": false
   },
   "outputs": [],
   "source": [
    "accuracy.plot.bar(title='Kobe Bryant\\n% by distance')\n",
    "plt.axis([0, 30, 0, .6])"
   ]
  },
  {
   "cell_type": "markdown",
   "metadata": {},
   "source": [
    "#### Comments:"
   ]
  },
  {
   "cell_type": "markdown",
   "metadata": {},
   "source": [
    "* Strange values when shot_distance = 0"
   ]
  },
  {
   "cell_type": "markdown",
   "metadata": {},
   "source": [
    "### Minutes remaining"
   ]
  },
  {
   "cell_type": "code",
   "execution_count": null,
   "metadata": {
    "collapsed": true
   },
   "outputs": [],
   "source": [
    "minutes = pd.pivot_table(data, index=\"minutes_remaining\", values=\"shot_id\", aggfunc='count')\n",
    "shots_scored = pd.pivot_table(data, index=\"minutes_remaining\", values=\"shot_made_flag\", aggfunc='sum')\n",
    "\n",
    "accuracy = shots_scored/minutes"
   ]
  },
  {
   "cell_type": "code",
   "execution_count": null,
   "metadata": {
    "collapsed": false
   },
   "outputs": [],
   "source": [
    "accuracy.plot.bar(title='Kobe Bryant\\n% by minutes remaining')\n",
    "plt.axis([0, 11, 0, .5])"
   ]
  },
  {
   "cell_type": "markdown",
   "metadata": {},
   "source": [
    "#### Comments:"
   ]
  },
  {
   "cell_type": "markdown",
   "metadata": {},
   "source": [
    "* Accuracy decreases in minutes_remaining = 0"
   ]
  },
  {
   "cell_type": "markdown",
   "metadata": {},
   "source": [
    "### Seconds remaining + Period"
   ]
  },
  {
   "cell_type": "code",
   "execution_count": null,
   "metadata": {
    "collapsed": false
   },
   "outputs": [],
   "source": [
    "seconds = pd.pivot_table(data, index=[ \"seconds_remaining\", 'period'], values=\"shot_id\", aggfunc='count')\n",
    "shots_scored = pd.pivot_table(data, index=[ \"seconds_remaining\", 'period'], values=\"shot_made_flag\", aggfunc='sum')\n",
    "\n",
    "accuracy = shots_scored/seconds"
   ]
  },
  {
   "cell_type": "code",
   "execution_count": null,
   "metadata": {
    "collapsed": false
   },
   "outputs": [],
   "source": [
    "accuracy"
   ]
  },
  {
   "cell_type": "markdown",
   "metadata": {},
   "source": [
    "#### Comments:"
   ]
  },
  {
   "cell_type": "markdown",
   "metadata": {},
   "source": [
    "* xxx"
   ]
  },
  {
   "cell_type": "markdown",
   "metadata": {
    "collapsed": true
   },
   "source": [
    "### Shots by zone range"
   ]
  },
  {
   "cell_type": "code",
   "execution_count": null,
   "metadata": {
    "collapsed": false,
    "scrolled": true
   },
   "outputs": [],
   "source": [
    "shot_zones = pd.pivot_table(data, index=\"shot_zone_range\", values=\"shot_id\", aggfunc='count')\n",
    "shot_zones_pct = shot_zones/shot_zones.sum()\n",
    "\n",
    "# change order\n",
    "shot_zones_pct = shot_zones_pct.reindex(index=['Less Than 8 ft.',  u'8-16 ft.', u'16-24 ft.', u'24+ ft.', u'Back Court Shot'])\n",
    "shot_zones_pct.plot.bar(title='Kobe Bryant\\n% by zone range')"
   ]
  },
  {
   "cell_type": "code",
   "execution_count": null,
   "metadata": {
    "collapsed": false,
    "scrolled": true
   },
   "outputs": [],
   "source": [
    "# let's try plotting all of his shots and show if miss or hit\n",
    "\n",
    "shots_pos = data[['loc_x', 'loc_y']]\n",
    "shot_colors = map(flag_colors, data.shot_made_flag)\n",
    "shots_pos.plot.scatter(x='loc_x', y='loc_y', s=5, c=shot_colors, ylim=(0,400), figsize=(10,5))"
   ]
  },
  {
   "cell_type": "markdown",
   "metadata": {},
   "source": [
    "#### Comments:"
   ]
  },
  {
   "cell_type": "markdown",
   "metadata": {},
   "source": [
    "* Heat map to understand accuracy"
   ]
  },
  {
   "cell_type": "markdown",
   "metadata": {},
   "source": [
    "### Shots by action type"
   ]
  },
  {
   "cell_type": "code",
   "execution_count": null,
   "metadata": {
    "collapsed": false
   },
   "outputs": [],
   "source": [
    "shots_actionType = pd.pivot_table(data, index=\"action_type\", values=\"shot_id\", aggfunc='count')\n",
    "shots_actionType.plot.bar(title='Kobe Bryant\\naction type')"
   ]
  },
  {
   "cell_type": "markdown",
   "metadata": {},
   "source": [
    "#### Comments:"
   ]
  },
  {
   "cell_type": "markdown",
   "metadata": {},
   "source": [
    "* xxx"
   ]
  },
  {
   "cell_type": "markdown",
   "metadata": {
    "collapsed": true
   },
   "source": [
    "### Combined shot type"
   ]
  },
  {
   "cell_type": "code",
   "execution_count": null,
   "metadata": {
    "collapsed": false
   },
   "outputs": [],
   "source": [
    "shots_combined = pd.pivot_table(data, index=\"combined_shot_type\", values=\"shot_id\", aggfunc='count')\n",
    "combined_scored = pd.pivot_table(data, index=\"combined_shot_type\", values=\"shot_made_flag\", aggfunc='sum')\n",
    "\n",
    "accuracy = combined_scored / shots_combined"
   ]
  },
  {
   "cell_type": "code",
   "execution_count": null,
   "metadata": {
    "collapsed": false
   },
   "outputs": [],
   "source": [
    "accuracy.plot.bar(title='Kobe Bryant\\n% combined shot type')"
   ]
  },
  {
   "cell_type": "markdown",
   "metadata": {},
   "source": [
    "#### Comments:"
   ]
  },
  {
   "cell_type": "markdown",
   "metadata": {},
   "source": [
    "* xxx"
   ]
  },
  {
   "cell_type": "markdown",
   "metadata": {},
   "source": [
    "### Shots by period"
   ]
  },
  {
   "cell_type": "code",
   "execution_count": null,
   "metadata": {
    "collapsed": false
   },
   "outputs": [],
   "source": [
    "shots_period = pd.pivot_table(data, index=\"period\", values=\"shot_id\", aggfunc='count')\n",
    "period_scored = pd.pivot_table(data, index=\"period\", values=\"shot_made_flag\", aggfunc='sum')\n",
    "\n",
    "accuracy = period_scored/shots_period"
   ]
  },
  {
   "cell_type": "code",
   "execution_count": null,
   "metadata": {
    "collapsed": false
   },
   "outputs": [],
   "source": [
    "accuracy.plot.bar(title='Kobe Bryant\\n% by period')"
   ]
  },
  {
   "cell_type": "markdown",
   "metadata": {},
   "source": [
    "#### Comments:"
   ]
  },
  {
   "cell_type": "markdown",
   "metadata": {},
   "source": [
    "* xxx"
   ]
  },
  {
   "cell_type": "markdown",
   "metadata": {},
   "source": [
    "### Playoffs"
   ]
  },
  {
   "cell_type": "code",
   "execution_count": null,
   "metadata": {
    "collapsed": false
   },
   "outputs": [],
   "source": [
    "playoff_shots = pd.pivot_table(data, index=\"playoffs\", values=\"shot_id\", aggfunc='count')\n",
    "playoff_scored = pd.pivot_table(data, index=\"playoffs\", values=\"shot_made_flag\", aggfunc='sum')\n",
    "\n",
    "accuracy = playoff_scored/playoff_shots"
   ]
  },
  {
   "cell_type": "code",
   "execution_count": null,
   "metadata": {
    "collapsed": false
   },
   "outputs": [],
   "source": [
    "accuracy.plot.bar(title='Kobe Bryant\\n% by playoff')"
   ]
  },
  {
   "cell_type": "markdown",
   "metadata": {},
   "source": [
    "#### Comments:"
   ]
  },
  {
   "cell_type": "markdown",
   "metadata": {},
   "source": [
    "* xxx"
   ]
  },
  {
   "cell_type": "markdown",
   "metadata": {},
   "source": [
    "### Shot type"
   ]
  },
  {
   "cell_type": "code",
   "execution_count": null,
   "metadata": {
    "collapsed": false
   },
   "outputs": [],
   "source": [
    "shot_type = pd.pivot_table(data, index=\"shot_type\", values=\"shot_id\", aggfunc='count')\n",
    "shotType_scored = pd.pivot_table(data, index=\"shot_type\", values=\"shot_made_flag\", aggfunc='sum')\n",
    "\n",
    "accuracy = shotType_scored/shot_type"
   ]
  },
  {
   "cell_type": "code",
   "execution_count": null,
   "metadata": {
    "collapsed": false
   },
   "outputs": [],
   "source": [
    "accuracy.plot.bar(title='Kobe Bryant\\n% by shot type')"
   ]
  },
  {
   "cell_type": "markdown",
   "metadata": {},
   "source": [
    "#### Comments:"
   ]
  },
  {
   "cell_type": "markdown",
   "metadata": {},
   "source": [
    "* xxx"
   ]
  },
  {
   "cell_type": "markdown",
   "metadata": {},
   "source": [
    "### Season"
   ]
  },
  {
   "cell_type": "code",
   "execution_count": null,
   "metadata": {
    "collapsed": false
   },
   "outputs": [],
   "source": [
    "season = pd.pivot_table(data, index=\"season\", values=\"shot_id\", aggfunc='count')\n",
    "season_scored = pd.pivot_table(data, index=\"season\", values=\"shot_made_flag\", aggfunc='sum')\n",
    "\n",
    "season_accuracy = season_scored/season"
   ]
  },
  {
   "cell_type": "code",
   "execution_count": null,
   "metadata": {
    "collapsed": false
   },
   "outputs": [],
   "source": [
    "season_accuracy.plot.bar(title='Kobe Bryant\\n% by shot type')"
   ]
  },
  {
   "cell_type": "markdown",
   "metadata": {},
   "source": [
    "#### Comments: "
   ]
  },
  {
   "cell_type": "markdown",
   "metadata": {},
   "source": [
    "* xxx"
   ]
  },
  {
   "cell_type": "markdown",
   "metadata": {},
   "source": [
    "# Missing Analysis"
   ]
  },
  {
   "cell_type": "markdown",
   "metadata": {},
   "source": [
    "* Home/away\n",
    "* Time of the year\n",
    "* Location\n",
    "* Day of the week"
   ]
  },
  {
   "cell_type": "markdown",
   "metadata": {
    "collapsed": true
   },
   "source": [
    "# 1. kNN"
   ]
  },
  {
   "cell_type": "markdown",
   "metadata": {},
   "source": [
    "** References: **\n",
    "* http://scikit-learn.org/stable/modules/neighbors.html\n",
    "* http://www.amazon.com/Building-Machine-Learning-Systems-Python/dp/1784392774/ref=sr_1_1?ie=UTF8&qid=1461733493&sr=8-1&keywords=luis+pedro+coelho+python\n",
    "* https://www.dataquest.io/blog/k-nearest-neighbors/"
   ]
  },
  {
   "cell_type": "code",
   "execution_count": null,
   "metadata": {
    "collapsed": true
   },
   "outputs": [],
   "source": [
    "knn = neighbors.KNeighborsClassifier(n_neighbors=2)"
   ]
  },
  {
   "cell_type": "code",
   "execution_count": null,
   "metadata": {
    "collapsed": false
   },
   "outputs": [],
   "source": [
    "x1 = train_data['loc_x'].reshape(len(train_data['loc_x']),1)\n",
    "x2 = train_data['loc_y'].reshape(len(train_data['loc_y']),1)\n",
    "x3 = train_data['shot_distance'].reshape(len(train_data['shot_distance']),1)"
   ]
  },
  {
   "cell_type": "code",
   "execution_count": null,
   "metadata": {
    "collapsed": false
   },
   "outputs": [],
   "source": [
    "x = np.concatenate((x1,x2,x3), axis=1)\n",
    "y = train_data['shot_made_flag'].reshape(len(train_data['shot_made_flag']),1)\n",
    "\n",
    "print x.shape\n",
    "print y.shape"
   ]
  },
  {
   "cell_type": "code",
   "execution_count": null,
   "metadata": {
    "collapsed": false
   },
   "outputs": [],
   "source": [
    "knn.fit(x,y.ravel())"
   ]
  },
  {
   "cell_type": "code",
   "execution_count": null,
   "metadata": {
    "collapsed": false
   },
   "outputs": [],
   "source": [
    "#knn.predict([0])"
   ]
  },
  {
   "cell_type": "code",
   "execution_count": null,
   "metadata": {
    "collapsed": false
   },
   "outputs": [],
   "source": [
    "#knn.predict_proba([0])"
   ]
  },
  {
   "cell_type": "markdown",
   "metadata": {},
   "source": [
    "## 1.1 kNN evaluation"
   ]
  },
  {
   "cell_type": "code",
   "execution_count": null,
   "metadata": {
    "collapsed": false
   },
   "outputs": [],
   "source": [
    "x1_test = test_data['loc_x'].reshape(len(test_data['loc_x']),1)\n",
    "x2_test = test_data['loc_y'].reshape(len(test_data['loc_y']),1)\n",
    "x3_test = test_data['shot_distance'].reshape(len(test_data['shot_distance']),1)"
   ]
  },
  {
   "cell_type": "code",
   "execution_count": null,
   "metadata": {
    "collapsed": true
   },
   "outputs": [],
   "source": [
    "x_test = np.concatenate((x1_test,x2_test,x3_test), axis=1)\n",
    "y_test = test_data['shot_made_flag'].reshape(len(test_data['shot_made_flag']),1)"
   ]
  },
  {
   "cell_type": "code",
   "execution_count": null,
   "metadata": {
    "collapsed": false
   },
   "outputs": [],
   "source": [
    "knn.score(x_test,y_test)"
   ]
  },
  {
   "cell_type": "code",
   "execution_count": null,
   "metadata": {
    "collapsed": false
   },
   "outputs": [],
   "source": [
    "# try different numbers of neighbours\n",
    "l = []\n",
    "for i in xrange(1,100):\n",
    "    knn = neighbors.KNeighborsClassifier(n_neighbors=i)\n",
    "    knn.fit(x,y.ravel())\n",
    "    \n",
    "    sc = knn.score(x_test,y_test)\n",
    "    l.append(sc)\n",
    "    \n",
    "plt.plot(l)"
   ]
  },
  {
   "cell_type": "markdown",
   "metadata": {},
   "source": [
    "## Knn for distance, shot_type"
   ]
  },
  {
   "cell_type": "code",
   "execution_count": null,
   "metadata": {
    "collapsed": false
   },
   "outputs": [],
   "source": [
    "train_data.replace(to_replace='2PT Field Goal', value=2, inplace=True)\n",
    "train_data.replace(to_replace='3PT Field Goal', value=3, inplace=True)"
   ]
  },
  {
   "cell_type": "code",
   "execution_count": null,
   "metadata": {
    "collapsed": false
   },
   "outputs": [],
   "source": [
    "knn = neighbors.KNeighborsClassifier(n_neighbors=3)\n",
    "x1 = train_data['shot_distance'].reshape(len(train_data['shot_distance']),1)\n",
    "x2 = train_data['shot_type'].reshape(len(train_data['shot_type']),1)\n",
    "\n",
    "x = np.concatenate((x1,x2), axis=1)\n",
    "y = train_data['shot_made_flag'].reshape(len(train_data['shot_made_flag']),1)\n",
    "\n",
    "knn.fit(x,y.ravel())"
   ]
  },
  {
   "cell_type": "code",
   "execution_count": null,
   "metadata": {
    "collapsed": false
   },
   "outputs": [],
   "source": [
    "x1_test = train_data['shot_distance'].reshape(len(train_data['shot_distance']),1)\n",
    "x2_test = train_data['shot_type'].reshape(len(train_data['shot_type']),1)\n",
    "\n",
    "x_test = np.concatenate((x1_test,x2_test), axis=1)\n",
    "y_test = train_data['shot_made_flag'].reshape(len(train_data['shot_made_flag']),1)"
   ]
  },
  {
   "cell_type": "code",
   "execution_count": null,
   "metadata": {
    "collapsed": false
   },
   "outputs": [],
   "source": [
    "knn.score(x_test, y_test)"
   ]
  },
  {
   "cell_type": "code",
   "execution_count": null,
   "metadata": {
    "collapsed": false
   },
   "outputs": [],
   "source": [
    "knn.fit(x1, y.ravel())\n",
    "knn.score(x1_test, y_test)"
   ]
  },
  {
   "cell_type": "code",
   "execution_count": null,
   "metadata": {
    "collapsed": false
   },
   "outputs": [],
   "source": [
    "# try different numbers of neighbours\n",
    "l = []\n",
    "for i in xrange(1,100):\n",
    "    knn = neighbors.KNeighborsClassifier(n_neighbors=i)\n",
    "    knn.fit(x,y.ravel())\n",
    "    \n",
    "    sc = knn.score(x_test,y_test)\n",
    "    l.append(sc)\n",
    "    \n",
    "plt.plot(l)"
   ]
  },
  {
   "cell_type": "markdown",
   "metadata": {
    "collapsed": true
   },
   "source": [
    "## New feature matrix"
   ]
  },
  {
   "cell_type": "raw",
   "metadata": {},
   "source": [
    "loc_x\t1\t2\t\tusar angulo e distancia\n",
    "loc_y\t1\t2\t\tusar angulo e distancia\n",
    "period\t1\t2\t\timportante\n",
    "season\t1\t2\t\t\n",
    "seconds_remaining\t1\t2\t\tcriar dummy variable: se <5 faz diferença, maior nao; eventualmente cruzar com o periodo\n",
    "game_date\t1\t2\t\tcomo expressar? Plots anuais p/ tentar perceber (dia da época?)\n",
    "matchup\t1\t2\t\tconverter para casa ou fora"
   ]
  },
  {
   "cell_type": "code",
   "execution_count": null,
   "metadata": {
    "collapsed": false
   },
   "outputs": [],
   "source": [
    "# create design matrix\n",
    "dm = data[['loc_x', 'loc_y', 'shot_distance', 'period', 'season', 'minutes_remaining', 'seconds_remaining', 'game_date', 'matchup', 'shot_made_flag']]"
   ]
  },
  {
   "cell_type": "code",
   "execution_count": null,
   "metadata": {
    "collapsed": false,
    "scrolled": true
   },
   "outputs": [],
   "source": [
    "# modify design matrix\n",
    "\n",
    "# convert shot_distance from feet to meters\n",
    "dm.loc[:,'shot_distance'] = dm['shot_distance'].apply(lambda x: x*0.3048)\n",
    "\n",
    "# add angle feature and clean NaN by assuming angle=0 when distance=0\n",
    "dm.loc[:,'angle'] = pd.Series(np.degrees(np.arctan(dm['loc_x']/dm['loc_y'])))\n",
    "dm['angle'].fillna(0, inplace=True)\n",
    "\n",
    "\n",
    "# convert matchup to Home/Away\n",
    "# Home=0, Away=1\n",
    "dm.loc[:, 'Home'] = dm['matchup'].apply(get_home_away)\n",
    "\n",
    "# convert seasons to first, second etc\n",
    "# needs: convert to date \n",
    "dm.loc[:,'season'] = dm['season'].apply(get_season_num)\n",
    "\n",
    "# convert minutes + seconds remaining to time remaining in quarter (in seconds)\n",
    "dm.loc[:, 'time_remaining'] = dm['minutes_remaining']*60 + dm['seconds_remaining']\n",
    "\n",
    "# clean dataframe\n",
    "cols_to_delete = ['loc_x', 'loc_y', 'minutes_remaining', 'seconds_remaining', 'matchup']\n",
    "dm.drop(cols_to_delete, axis=1, inplace=True)\n",
    "\n",
    "# temporary: also drop game_date\n",
    "dm.drop('game_date', axis=1, inplace=True)"
   ]
  },
  {
   "cell_type": "code",
   "execution_count": null,
   "metadata": {
    "collapsed": false
   },
   "outputs": [],
   "source": [
    "# clean NaN in shot_made_flag column\n",
    "dm.dropna(axis=0, how='any', inplace=True)\n",
    "\n",
    "# make sure no NaNs in dm\n",
    "assert dm.isnull().any().any()==False"
   ]
  },
  {
   "cell_type": "markdown",
   "metadata": {},
   "source": [
    "# KNN with complete design matrix"
   ]
  },
  {
   "cell_type": "code",
   "execution_count": null,
   "metadata": {
    "collapsed": true
   },
   "outputs": [],
   "source": [
    "# TRAINING AND TEST DATA\n",
    "train_data, test_data = train_test_split(dm, test_size = 0.2, random_state = 0)\n",
    "\n",
    "xtrain = train_data.drop('shot_made_flag', axis=1)\n",
    "xtest = test_data.drop('shot_made_flag', axis=1)\n",
    "\n",
    "ytrain = train_data['shot_made_flag'].reshape(len(train_data['shot_made_flag']),1)\n",
    "ytest = test_data['shot_made_flag'].reshape(len(test_data['shot_made_flag']),1)"
   ]
  },
  {
   "cell_type": "code",
   "execution_count": null,
   "metadata": {
    "collapsed": false
   },
   "outputs": [],
   "source": [
    "# score for multiple neighbours\n",
    "l=[]\n",
    "for i in range(1,60):\n",
    "    knn = neighbors.KNeighborsClassifier(n_neighbors=i)\n",
    "    knn.fit(xtrain, ytrain.ravel())\n",
    "\n",
    "    sc = knn.score(xtest, ytest)\n",
    "    l.append(sc)\n",
    "    \n",
    "plt.plot(l)"
   ]
  }
 ],
 "metadata": {
  "kernelspec": {
   "display_name": "Python 2",
   "language": "python",
   "name": "python2"
  },
  "language_info": {
   "codemirror_mode": {
    "name": "ipython",
    "version": 2
   },
   "file_extension": ".py",
   "mimetype": "text/x-python",
   "name": "python",
   "nbconvert_exporter": "python",
   "pygments_lexer": "ipython2",
   "version": "2.7.11"
  }
 },
 "nbformat": 4,
 "nbformat_minor": 0
}
