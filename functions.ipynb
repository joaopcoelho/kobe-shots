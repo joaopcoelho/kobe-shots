{
 "cells": [
  {
   "cell_type": "code",
   "execution_count": 1,
   "metadata": {
    "collapsed": true
   },
   "outputs": [],
   "source": [
    "#convert shot flags to colors\n",
    "def flag_colors(flag):\n",
    "    if flag == 1: return 'green'\n",
    "    if flag == 0: return 'red'\n",
    "    return 'black'"
   ]
  },
  {
   "cell_type": "code",
   "execution_count": 3,
   "metadata": {
    "collapsed": true
   },
   "outputs": [],
   "source": [
    "# convert matchup string to Home=1, away=0\n",
    "# example: LAL @ POR: home=0\n",
    "# example: LAL vs. POR: home=1\n",
    "def get_home_away(string):\n",
    "    if '@' in string: return 0 #away\n",
    "    elif 'vs' in string : return 1 #home\n",
    "    else: return \"ACORDA CRL\""
   ]
  },
  {
   "cell_type": "code",
   "execution_count": 4,
   "metadata": {
    "collapsed": true
   },
   "outputs": [],
   "source": [
    "# convert season in format '1999-00' to \n",
    "# example: '1999-00': 3\n",
    "def get_season_num(year):\n",
    "    # year is in format '2009-10'\n",
    "    year0 = 1996\n",
    "    y = year[:4]\n",
    "    y_int = int(y)\n",
    "    \n",
    "    return y_int - year0\n",
    "\n",
    "#quick asserts\n",
    "#assert get_season_num('2010-11') == 14\n",
    "#assert get_home_away('LAL @ POR') == 0\n",
    "#assert get_home_away('LAL vs UTA') == 1    "
   ]
  },
  {
   "cell_type": "code",
   "execution_count": 5,
   "metadata": {
    "collapsed": true
   },
   "outputs": [],
   "source": [
    "def write_kaggle_submission(df, probs, output_file='kobe_submission.csv'):\n",
    "    \"\"\"\n",
    "    write output to kaggle format (for kobe competition)\n",
    "    \n",
    "    Input:\n",
    "        df (pandas dataframe): dataframe used for predicting probabilities\n",
    "        probs (numpy array): array of probability values\n",
    "        \n",
    "    Output:\n",
    "        None\n",
    "    \n",
    "    Side effects:\n",
    "        creates csv file \"output_file\"\n",
    "        \n",
    "    Comments:\n",
    "        number of rows in df should match size of probs array\n",
    "    \"\"\"\n",
    "\n",
    "    # create new Series with df indexes as shot_id and probs values as shot_made_flag\n",
    "    \n",
    "    data_values = probs\n",
    "    index_values = df.index.values +1\n",
    "    data_dict = {'shot_id': index_values, 'shot_made_flag': data_values}\n",
    "    \n",
    "    df_towrite = pd.DataFrame(data = data_dict)\n",
    "    \n",
    "    df_towrite.to_csv(output_file, header=True, index=False)\n",
    "    \n",
    "    return"
   ]
  },
  {
   "cell_type": "code",
   "execution_count": 6,
   "metadata": {
    "collapsed": true
   },
   "outputs": [],
   "source": [
    "def logloss(act, pred):\n",
    "    \"\"\"\n",
    "    logloss function\n",
    "    imported from kaggle evalutation\n",
    "    \"\"\"\n",
    "    epsilon = 1e-15\n",
    "    pred = sp.maximum(epsilon, pred)\n",
    "    pred = sp.minimum(1-epsilon, pred)\n",
    "    ll = sum(act*sp.log(pred) + sp.subtract(1,act)*sp.log(sp.subtract(1,pred)))\n",
    "    ll = ll * -1.0/len(act)\n",
    "    return ll"
   ]
  },
  {
   "cell_type": "code",
   "execution_count": null,
   "metadata": {
    "collapsed": true
   },
   "outputs": [],
   "source": []
  }
 ],
 "metadata": {
  "kernelspec": {
   "display_name": "Python 2",
   "language": "python",
   "name": "python2"
  },
  "language_info": {
   "codemirror_mode": {
    "name": "ipython",
    "version": 2
   },
   "file_extension": ".py",
   "mimetype": "text/x-python",
   "name": "python",
   "nbconvert_exporter": "python",
   "pygments_lexer": "ipython2",
   "version": "2.7.11"
  }
 },
 "nbformat": 4,
 "nbformat_minor": 0
}
