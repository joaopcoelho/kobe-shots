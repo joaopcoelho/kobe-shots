{
 "cells": [
  {
   "cell_type": "markdown",
   "metadata": {},
   "source": [
    "# KOBE BRYANT SHOT SELECTION"
   ]
  },
  {
   "cell_type": "markdown",
   "metadata": {},
   "source": [
    "## Summary of major findings"
   ]
  },
  {
   "cell_type": "markdown",
   "metadata": {},
   "source": [
    "* xxx"
   ]
  },
  {
   "cell_type": "markdown",
   "metadata": {},
   "source": [
    "## Things to do"
   ]
  },
  {
   "cell_type": "markdown",
   "metadata": {},
   "source": [
    "* Can we improve the missing data strategy?\n",
    "* Are all the limitations to algorithm application verified?\n",
    "* prevent leakage: train only on shots prior to the ones we're predicting (year)\n",
    "* select features and then explore number of neighbours\n",
    "* target: score=0.75\n",
    "* http://scikit-learn.org/stable/modules/outlier_detection.html#outlier-detection\n",
    "* Define function to optimize the number of neighbors"
   ]
  },
  {
   "cell_type": "markdown",
   "metadata": {},
   "source": [
    "# 1. Set up"
   ]
  },
  {
   "cell_type": "markdown",
   "metadata": {},
   "source": [
    "## 1.1 Environment"
   ]
  },
  {
   "cell_type": "code",
   "execution_count": 3,
   "metadata": {
    "collapsed": false
   },
   "outputs": [],
   "source": [
    "import pandas as pd\n",
    "import numpy as np\n",
    "import matplotlib.pyplot as plt\n",
    "import seaborn as sns\n",
    "import time\n",
    "\n",
    "import scipy as sp\n",
    "\n",
    "from matplotlib.pylab import rcParams\n",
    "from sklearn import neighbors\n",
    "from sklearn.cross_validation import train_test_split\n",
    "from sklearn.cross_validation import KFold\n",
    "\n",
    "%matplotlib inline"
   ]
  },
  {
   "cell_type": "markdown",
   "metadata": {},
   "source": [
    "## 1.2 Useful functions"
   ]
  },
  {
   "cell_type": "code",
   "execution_count": 4,
   "metadata": {
    "collapsed": true
   },
   "outputs": [],
   "source": [
    "#convert shot flags to colors\n",
    "def flag_colors(flag):\n",
    "    if flag == 1: return 'green'\n",
    "    if flag == 0: return 'red'\n",
    "    return 'black'"
   ]
  },
  {
   "cell_type": "code",
   "execution_count": 5,
   "metadata": {
    "collapsed": false
   },
   "outputs": [],
   "source": [
    "# convert matchup string to Home=1, away=0\n",
    "# example: LAL @ POR: home=0\n",
    "# example: LAL vs. POR: home=1\n",
    "def get_home_away(string):\n",
    "    if '@' in string: return 0 #away\n",
    "    elif 'vs' in string : return 1 #home\n",
    "    else: return \"ACORDA CRL\""
   ]
  },
  {
   "cell_type": "code",
   "execution_count": 6,
   "metadata": {
    "collapsed": true
   },
   "outputs": [],
   "source": [
    "# convert season in format '1999-00' to \n",
    "# example: '1999-00': 3\n",
    "def get_season_num(year):\n",
    "    # year is in format '2009-10'\n",
    "    year0 = 1996\n",
    "    y = year[:4]\n",
    "    y_int = int(y)\n",
    "    \n",
    "    return y_int - year0\n",
    "\n",
    "#quick asserts\n",
    "assert get_season_num('2010-11') == 14\n",
    "assert get_home_away('LAL @ POR') == 0\n",
    "assert get_home_away('LAL vs UTA') == 1    "
   ]
  },
  {
   "cell_type": "code",
   "execution_count": 7,
   "metadata": {
    "collapsed": true
   },
   "outputs": [],
   "source": [
    "def write_kaggle_submission(df, probs, output_file='kobe_submission.csv'):\n",
    "    \"\"\"\n",
    "    write output to kaggle format (for kobe competition)\n",
    "    \n",
    "    Input:\n",
    "        df (pandas dataframe): dataframe used for predicting probabilities\n",
    "        probs (numpy array): array of probability values\n",
    "        \n",
    "    Output:\n",
    "        None\n",
    "    \n",
    "    Side effects:\n",
    "        creates csv file \"output_file\"\n",
    "        \n",
    "    Comments:\n",
    "        number of rows in df should match size of probs array\n",
    "    \"\"\"\n",
    "\n",
    "    # create new Series with df indexes as shot_id and probs values as shot_made_flag\n",
    "    \n",
    "    data_values = probs\n",
    "    index_values = df.index.values +1\n",
    "    data_dict = {'shot_id': index_values, 'shot_made_flag': data_values}\n",
    "    \n",
    "    df_towrite = pd.DataFrame(data = data_dict)\n",
    "    \n",
    "    df_towrite.to_csv(output_file, header=True, index=False)\n",
    "    \n",
    "    return"
   ]
  },
  {
   "cell_type": "code",
   "execution_count": 8,
   "metadata": {
    "collapsed": true
   },
   "outputs": [],
   "source": [
    "def logloss(act, pred):\n",
    "    \"\"\"\n",
    "    logloss function\n",
    "    imported from kaggle evalutation\n",
    "    \"\"\"\n",
    "    epsilon = 1e-15\n",
    "    pred = sp.maximum(epsilon, pred)\n",
    "    pred = sp.minimum(1-epsilon, pred)\n",
    "    ll = sum(act*sp.log(pred) + sp.subtract(1,act)*sp.log(sp.subtract(1,pred)))\n",
    "    ll = ll * -1.0/len(act)\n",
    "    return ll"
   ]
  },
  {
   "cell_type": "markdown",
   "metadata": {},
   "source": [
    "## 1.3 Read data"
   ]
  },
  {
   "cell_type": "code",
   "execution_count": 9,
   "metadata": {
    "collapsed": false
   },
   "outputs": [
    {
     "data": {
      "text/html": [
       "<div>\n",
       "<table border=\"1\" class=\"dataframe\">\n",
       "  <thead>\n",
       "    <tr style=\"text-align: right;\">\n",
       "      <th></th>\n",
       "      <th>action_type</th>\n",
       "      <th>combined_shot_type</th>\n",
       "      <th>game_event_id</th>\n",
       "      <th>game_id</th>\n",
       "      <th>lat</th>\n",
       "      <th>loc_x</th>\n",
       "      <th>loc_y</th>\n",
       "      <th>lon</th>\n",
       "      <th>minutes_remaining</th>\n",
       "      <th>period</th>\n",
       "      <th>...</th>\n",
       "      <th>shot_type</th>\n",
       "      <th>shot_zone_area</th>\n",
       "      <th>shot_zone_basic</th>\n",
       "      <th>shot_zone_range</th>\n",
       "      <th>team_id</th>\n",
       "      <th>team_name</th>\n",
       "      <th>game_date</th>\n",
       "      <th>matchup</th>\n",
       "      <th>opponent</th>\n",
       "      <th>shot_id</th>\n",
       "    </tr>\n",
       "  </thead>\n",
       "  <tbody>\n",
       "    <tr>\n",
       "      <th>0</th>\n",
       "      <td>Jump Shot</td>\n",
       "      <td>Jump Shot</td>\n",
       "      <td>10</td>\n",
       "      <td>20000012</td>\n",
       "      <td>33.9723</td>\n",
       "      <td>167</td>\n",
       "      <td>72</td>\n",
       "      <td>-118.1028</td>\n",
       "      <td>10</td>\n",
       "      <td>1</td>\n",
       "      <td>...</td>\n",
       "      <td>2PT Field Goal</td>\n",
       "      <td>Right Side(R)</td>\n",
       "      <td>Mid-Range</td>\n",
       "      <td>16-24 ft.</td>\n",
       "      <td>1610612747</td>\n",
       "      <td>Los Angeles Lakers</td>\n",
       "      <td>2000-10-31</td>\n",
       "      <td>LAL @ POR</td>\n",
       "      <td>POR</td>\n",
       "      <td>1</td>\n",
       "    </tr>\n",
       "    <tr>\n",
       "      <th>1</th>\n",
       "      <td>Jump Shot</td>\n",
       "      <td>Jump Shot</td>\n",
       "      <td>12</td>\n",
       "      <td>20000012</td>\n",
       "      <td>34.0443</td>\n",
       "      <td>-157</td>\n",
       "      <td>0</td>\n",
       "      <td>-118.4268</td>\n",
       "      <td>10</td>\n",
       "      <td>1</td>\n",
       "      <td>...</td>\n",
       "      <td>2PT Field Goal</td>\n",
       "      <td>Left Side(L)</td>\n",
       "      <td>Mid-Range</td>\n",
       "      <td>8-16 ft.</td>\n",
       "      <td>1610612747</td>\n",
       "      <td>Los Angeles Lakers</td>\n",
       "      <td>2000-10-31</td>\n",
       "      <td>LAL @ POR</td>\n",
       "      <td>POR</td>\n",
       "      <td>2</td>\n",
       "    </tr>\n",
       "    <tr>\n",
       "      <th>2</th>\n",
       "      <td>Jump Shot</td>\n",
       "      <td>Jump Shot</td>\n",
       "      <td>35</td>\n",
       "      <td>20000012</td>\n",
       "      <td>33.9093</td>\n",
       "      <td>-101</td>\n",
       "      <td>135</td>\n",
       "      <td>-118.3708</td>\n",
       "      <td>7</td>\n",
       "      <td>1</td>\n",
       "      <td>...</td>\n",
       "      <td>2PT Field Goal</td>\n",
       "      <td>Left Side Center(LC)</td>\n",
       "      <td>Mid-Range</td>\n",
       "      <td>16-24 ft.</td>\n",
       "      <td>1610612747</td>\n",
       "      <td>Los Angeles Lakers</td>\n",
       "      <td>2000-10-31</td>\n",
       "      <td>LAL @ POR</td>\n",
       "      <td>POR</td>\n",
       "      <td>3</td>\n",
       "    </tr>\n",
       "    <tr>\n",
       "      <th>3</th>\n",
       "      <td>Jump Shot</td>\n",
       "      <td>Jump Shot</td>\n",
       "      <td>43</td>\n",
       "      <td>20000012</td>\n",
       "      <td>33.8693</td>\n",
       "      <td>138</td>\n",
       "      <td>175</td>\n",
       "      <td>-118.1318</td>\n",
       "      <td>6</td>\n",
       "      <td>1</td>\n",
       "      <td>...</td>\n",
       "      <td>2PT Field Goal</td>\n",
       "      <td>Right Side Center(RC)</td>\n",
       "      <td>Mid-Range</td>\n",
       "      <td>16-24 ft.</td>\n",
       "      <td>1610612747</td>\n",
       "      <td>Los Angeles Lakers</td>\n",
       "      <td>2000-10-31</td>\n",
       "      <td>LAL @ POR</td>\n",
       "      <td>POR</td>\n",
       "      <td>4</td>\n",
       "    </tr>\n",
       "    <tr>\n",
       "      <th>4</th>\n",
       "      <td>Driving Dunk Shot</td>\n",
       "      <td>Dunk</td>\n",
       "      <td>155</td>\n",
       "      <td>20000012</td>\n",
       "      <td>34.0443</td>\n",
       "      <td>0</td>\n",
       "      <td>0</td>\n",
       "      <td>-118.2698</td>\n",
       "      <td>6</td>\n",
       "      <td>2</td>\n",
       "      <td>...</td>\n",
       "      <td>2PT Field Goal</td>\n",
       "      <td>Center(C)</td>\n",
       "      <td>Restricted Area</td>\n",
       "      <td>Less Than 8 ft.</td>\n",
       "      <td>1610612747</td>\n",
       "      <td>Los Angeles Lakers</td>\n",
       "      <td>2000-10-31</td>\n",
       "      <td>LAL @ POR</td>\n",
       "      <td>POR</td>\n",
       "      <td>5</td>\n",
       "    </tr>\n",
       "  </tbody>\n",
       "</table>\n",
       "<p>5 rows × 25 columns</p>\n",
       "</div>"
      ],
      "text/plain": [
       "         action_type combined_shot_type  game_event_id   game_id      lat  \\\n",
       "0          Jump Shot          Jump Shot             10  20000012  33.9723   \n",
       "1          Jump Shot          Jump Shot             12  20000012  34.0443   \n",
       "2          Jump Shot          Jump Shot             35  20000012  33.9093   \n",
       "3          Jump Shot          Jump Shot             43  20000012  33.8693   \n",
       "4  Driving Dunk Shot               Dunk            155  20000012  34.0443   \n",
       "\n",
       "   loc_x  loc_y       lon  minutes_remaining  period   ...          shot_type  \\\n",
       "0    167     72 -118.1028                 10       1   ...     2PT Field Goal   \n",
       "1   -157      0 -118.4268                 10       1   ...     2PT Field Goal   \n",
       "2   -101    135 -118.3708                  7       1   ...     2PT Field Goal   \n",
       "3    138    175 -118.1318                  6       1   ...     2PT Field Goal   \n",
       "4      0      0 -118.2698                  6       2   ...     2PT Field Goal   \n",
       "\n",
       "          shot_zone_area  shot_zone_basic  shot_zone_range     team_id  \\\n",
       "0          Right Side(R)        Mid-Range        16-24 ft.  1610612747   \n",
       "1           Left Side(L)        Mid-Range         8-16 ft.  1610612747   \n",
       "2   Left Side Center(LC)        Mid-Range        16-24 ft.  1610612747   \n",
       "3  Right Side Center(RC)        Mid-Range        16-24 ft.  1610612747   \n",
       "4              Center(C)  Restricted Area  Less Than 8 ft.  1610612747   \n",
       "\n",
       "            team_name   game_date    matchup opponent  shot_id  \n",
       "0  Los Angeles Lakers  2000-10-31  LAL @ POR      POR        1  \n",
       "1  Los Angeles Lakers  2000-10-31  LAL @ POR      POR        2  \n",
       "2  Los Angeles Lakers  2000-10-31  LAL @ POR      POR        3  \n",
       "3  Los Angeles Lakers  2000-10-31  LAL @ POR      POR        4  \n",
       "4  Los Angeles Lakers  2000-10-31  LAL @ POR      POR        5  \n",
       "\n",
       "[5 rows x 25 columns]"
      ]
     },
     "execution_count": 9,
     "metadata": {},
     "output_type": "execute_result"
    }
   ],
   "source": [
    "data = pd.read_csv('data.csv')\n",
    "data.head()"
   ]
  },
  {
   "cell_type": "code",
   "execution_count": 10,
   "metadata": {
    "collapsed": false
   },
   "outputs": [
    {
     "data": {
      "text/plain": [
       "['action_type',\n",
       " 'combined_shot_type',\n",
       " 'game_event_id',\n",
       " 'game_id',\n",
       " 'lat',\n",
       " 'loc_x',\n",
       " 'loc_y',\n",
       " 'lon',\n",
       " 'minutes_remaining',\n",
       " 'period',\n",
       " 'playoffs',\n",
       " 'season',\n",
       " 'seconds_remaining',\n",
       " 'shot_distance',\n",
       " 'shot_made_flag',\n",
       " 'shot_type',\n",
       " 'shot_zone_area',\n",
       " 'shot_zone_basic',\n",
       " 'shot_zone_range',\n",
       " 'team_id',\n",
       " 'team_name',\n",
       " 'game_date',\n",
       " 'matchup',\n",
       " 'opponent',\n",
       " 'shot_id']"
      ]
     },
     "execution_count": 10,
     "metadata": {},
     "output_type": "execute_result"
    }
   ],
   "source": [
    "list(data.columns.values)"
   ]
  },
  {
   "cell_type": "markdown",
   "metadata": {},
   "source": [
    "## 1.4 Preprocessing"
   ]
  },
  {
   "cell_type": "code",
   "execution_count": 11,
   "metadata": {
    "collapsed": false
   },
   "outputs": [],
   "source": [
    "# TRAINING AND TEST DATA\n",
    "train_data, test_data = train_test_split(data, test_size = 0.2, random_state = 0)"
   ]
  },
  {
   "cell_type": "code",
   "execution_count": 12,
   "metadata": {
    "collapsed": false
   },
   "outputs": [],
   "source": [
    "# MISSING DATA\n",
    "# don't consider rows with shot_made_flag = NaN\n",
    "train_data = train_data[np.isfinite(train_data['shot_made_flag'])]\n",
    "test_data = test_data[np.isfinite(test_data['shot_made_flag'])]"
   ]
  },
  {
   "cell_type": "code",
   "execution_count": 13,
   "metadata": {
    "collapsed": false
   },
   "outputs": [],
   "source": [
    "# extract validation set\n",
    "validation_data = data[data['shot_made_flag'].isnull()]"
   ]
  },
  {
   "cell_type": "markdown",
   "metadata": {},
   "source": [
    "# 2. Exploring features"
   ]
  },
  {
   "cell_type": "markdown",
   "metadata": {},
   "source": [
    "## 2.1. Correlation matrix"
   ]
  },
  {
   "cell_type": "code",
   "execution_count": null,
   "metadata": {
    "collapsed": false
   },
   "outputs": [],
   "source": [
    "cm = data.corr()\n",
    "cm.loc['shot_made_flag']"
   ]
  },
  {
   "cell_type": "markdown",
   "metadata": {
    "collapsed": true
   },
   "source": [
    "#### Notes:"
   ]
  },
  {
   "cell_type": "markdown",
   "metadata": {},
   "source": [
    "* Needs normalization"
   ]
  },
  {
   "cell_type": "markdown",
   "metadata": {},
   "source": [
    "## 2.2. Opponent"
   ]
  },
  {
   "cell_type": "code",
   "execution_count": null,
   "metadata": {
    "collapsed": false
   },
   "outputs": [],
   "source": [
    "total_shots = pd.pivot_table(data, index=\"opponent\", values=\"shot_id\", aggfunc='count')\n",
    "shots_scored = pd.pivot_table(data, index=\"opponent\", values=\"shot_made_flag\", aggfunc='sum')\n",
    "\n",
    "accuracy = shots_scored/total_shots"
   ]
  },
  {
   "cell_type": "code",
   "execution_count": null,
   "metadata": {
    "collapsed": false
   },
   "outputs": [],
   "source": [
    "accuracy.plot.bar(title='Kobe Bryant\\n% by opponent')"
   ]
  },
  {
   "cell_type": "markdown",
   "metadata": {},
   "source": [
    "#### Notes:"
   ]
  },
  {
   "cell_type": "markdown",
   "metadata": {},
   "source": [
    "* xxx"
   ]
  },
  {
   "cell_type": "markdown",
   "metadata": {},
   "source": [
    "## 2.3. Shots by distance"
   ]
  },
  {
   "cell_type": "code",
   "execution_count": null,
   "metadata": {
    "collapsed": false
   },
   "outputs": [],
   "source": [
    "total_distance = pd.pivot_table(data, index=\"shot_distance\", values=\"shot_id\", aggfunc='count')\n",
    "shots_scored = pd.pivot_table(data, index=\"shot_distance\", values=\"shot_made_flag\", aggfunc='sum')\n",
    "\n",
    "accuracy = shots_scored/total_distance"
   ]
  },
  {
   "cell_type": "code",
   "execution_count": null,
   "metadata": {
    "collapsed": false
   },
   "outputs": [],
   "source": [
    "accuracy.plot.bar(title='Kobe Bryant\\n% by distance')\n",
    "plt.axis([0, 30, 0, .6])"
   ]
  },
  {
   "cell_type": "markdown",
   "metadata": {},
   "source": [
    "#### Notes:"
   ]
  },
  {
   "cell_type": "markdown",
   "metadata": {},
   "source": [
    "* Strange values when shot_distance = 0"
   ]
  },
  {
   "cell_type": "markdown",
   "metadata": {},
   "source": [
    "## 2.4. Minutes remaining"
   ]
  },
  {
   "cell_type": "code",
   "execution_count": null,
   "metadata": {
    "collapsed": true
   },
   "outputs": [],
   "source": [
    "minutes = pd.pivot_table(data, index=\"minutes_remaining\", values=\"shot_id\", aggfunc='count')\n",
    "shots_scored = pd.pivot_table(data, index=\"minutes_remaining\", values=\"shot_made_flag\", aggfunc='sum')\n",
    "\n",
    "accuracy = shots_scored/minutes"
   ]
  },
  {
   "cell_type": "code",
   "execution_count": null,
   "metadata": {
    "collapsed": false
   },
   "outputs": [],
   "source": [
    "accuracy.plot.bar(title='Kobe Bryant\\n% by minutes remaining')\n",
    "plt.axis([0, 11, 0, .5])"
   ]
  },
  {
   "cell_type": "markdown",
   "metadata": {},
   "source": [
    "#### Notes:"
   ]
  },
  {
   "cell_type": "markdown",
   "metadata": {},
   "source": [
    "* Accuracy decreases in minutes_remaining = 0"
   ]
  },
  {
   "cell_type": "markdown",
   "metadata": {},
   "source": [
    "## 2.5. Seconds remaining + Period"
   ]
  },
  {
   "cell_type": "code",
   "execution_count": null,
   "metadata": {
    "collapsed": false
   },
   "outputs": [],
   "source": [
    "seconds = pd.pivot_table(data, index=[ \"seconds_remaining\", 'period'], values=\"shot_id\", aggfunc='count')\n",
    "shots_scored = pd.pivot_table(data, index=[ \"seconds_remaining\", 'period'], values=\"shot_made_flag\", aggfunc='sum')\n",
    "\n",
    "accuracy = shots_scored/seconds"
   ]
  },
  {
   "cell_type": "code",
   "execution_count": null,
   "metadata": {
    "collapsed": false
   },
   "outputs": [],
   "source": [
    "accuracy"
   ]
  },
  {
   "cell_type": "markdown",
   "metadata": {},
   "source": [
    "#### Notes:"
   ]
  },
  {
   "cell_type": "markdown",
   "metadata": {},
   "source": [
    "* xxx"
   ]
  },
  {
   "cell_type": "markdown",
   "metadata": {
    "collapsed": true
   },
   "source": [
    "## 2.6. Shots by zone range"
   ]
  },
  {
   "cell_type": "code",
   "execution_count": null,
   "metadata": {
    "collapsed": false,
    "scrolled": true
   },
   "outputs": [],
   "source": [
    "shot_zones = pd.pivot_table(data, index=\"shot_zone_range\", values=\"shot_id\", aggfunc='count')\n",
    "shot_zones_pct = shot_zones/shot_zones.sum()\n",
    "\n",
    "# change order\n",
    "shot_zones_pct = shot_zones_pct.reindex(index=['Less Than 8 ft.',  u'8-16 ft.', u'16-24 ft.', u'24+ ft.', u'Back Court Shot'])\n",
    "shot_zones_pct.plot.bar(title='Kobe Bryant\\n% by zone range')"
   ]
  },
  {
   "cell_type": "code",
   "execution_count": null,
   "metadata": {
    "collapsed": false,
    "scrolled": true
   },
   "outputs": [],
   "source": [
    "# let's try plotting all of his shots and show if miss or hit\n",
    "\n",
    "shots_pos = data[['loc_x', 'loc_y']]\n",
    "shot_colors = map(flag_colors, data.shot_made_flag)\n",
    "shots_pos.plot.scatter(x='loc_x', y='loc_y', s=5, c=shot_colors, ylim=(0,400), figsize=(10,5))"
   ]
  },
  {
   "cell_type": "markdown",
   "metadata": {},
   "source": [
    "#### Notes:"
   ]
  },
  {
   "cell_type": "markdown",
   "metadata": {},
   "source": [
    "* Heat map to understand accuracy"
   ]
  },
  {
   "cell_type": "markdown",
   "metadata": {},
   "source": [
    "## 2.7. Shots by action type"
   ]
  },
  {
   "cell_type": "code",
   "execution_count": 36,
   "metadata": {
    "collapsed": false
   },
   "outputs": [],
   "source": [
    "shots_actionType = pd.pivot_table(data, index=\"action_type\", values=\"shot_id\", aggfunc='count')\n",
    "shots_actionType.plot.bar(title='Kobe Bryant\\naction type')"
   ]
  },
  {
   "cell_type": "markdown",
   "metadata": {},
   "source": [
    "#### Notes:"
   ]
  },
  {
   "cell_type": "markdown",
   "metadata": {},
   "source": [
    "* xxx"
   ]
  },
  {
   "cell_type": "markdown",
   "metadata": {
    "collapsed": true
   },
   "source": [
    "## 2.8. Combined shot type"
   ]
  },
  {
   "cell_type": "code",
   "execution_count": null,
   "metadata": {
    "collapsed": false
   },
   "outputs": [],
   "source": [
    "shots_combined = pd.pivot_table(data, index=\"combined_shot_type\", values=\"shot_id\", aggfunc='count')\n",
    "combined_scored = pd.pivot_table(data, index=\"combined_shot_type\", values=\"shot_made_flag\", aggfunc='sum')\n",
    "\n",
    "accuracy = combined_scored / shots_combined"
   ]
  },
  {
   "cell_type": "code",
   "execution_count": null,
   "metadata": {
    "collapsed": false
   },
   "outputs": [],
   "source": [
    "accuracy.plot.bar(title='Kobe Bryant\\n% combined shot type')"
   ]
  },
  {
   "cell_type": "markdown",
   "metadata": {},
   "source": [
    "#### Notes:"
   ]
  },
  {
   "cell_type": "markdown",
   "metadata": {},
   "source": [
    "* xxx"
   ]
  },
  {
   "cell_type": "markdown",
   "metadata": {},
   "source": [
    "## 2.9. Shots by period"
   ]
  },
  {
   "cell_type": "code",
   "execution_count": null,
   "metadata": {
    "collapsed": false
   },
   "outputs": [],
   "source": [
    "shots_period = pd.pivot_table(data, index=\"period\", values=\"shot_id\", aggfunc='count')\n",
    "period_scored = pd.pivot_table(data, index=\"period\", values=\"shot_made_flag\", aggfunc='sum')\n",
    "\n",
    "accuracy = period_scored/shots_period"
   ]
  },
  {
   "cell_type": "code",
   "execution_count": null,
   "metadata": {
    "collapsed": false
   },
   "outputs": [],
   "source": [
    "accuracy.plot.bar(title='Kobe Bryant\\n% by period')"
   ]
  },
  {
   "cell_type": "markdown",
   "metadata": {},
   "source": [
    "#### Notes:"
   ]
  },
  {
   "cell_type": "markdown",
   "metadata": {},
   "source": [
    "* xxx"
   ]
  },
  {
   "cell_type": "markdown",
   "metadata": {},
   "source": [
    "## 2.10. Playoffs"
   ]
  },
  {
   "cell_type": "code",
   "execution_count": null,
   "metadata": {
    "collapsed": false
   },
   "outputs": [],
   "source": [
    "playoff_shots = pd.pivot_table(data, index=\"playoffs\", values=\"shot_id\", aggfunc='count')\n",
    "playoff_scored = pd.pivot_table(data, index=\"playoffs\", values=\"shot_made_flag\", aggfunc='sum')\n",
    "\n",
    "accuracy = playoff_scored/playoff_shots"
   ]
  },
  {
   "cell_type": "code",
   "execution_count": null,
   "metadata": {
    "collapsed": false
   },
   "outputs": [],
   "source": [
    "accuracy.plot.bar(title='Kobe Bryant\\n% by playoff')"
   ]
  },
  {
   "cell_type": "markdown",
   "metadata": {},
   "source": [
    "#### Notes:"
   ]
  },
  {
   "cell_type": "markdown",
   "metadata": {},
   "source": [
    "* Playoffs vs regular season makes no difference"
   ]
  },
  {
   "cell_type": "markdown",
   "metadata": {},
   "source": [
    "## 2.11. Shot type"
   ]
  },
  {
   "cell_type": "code",
   "execution_count": null,
   "metadata": {
    "collapsed": false
   },
   "outputs": [],
   "source": [
    "shot_type = pd.pivot_table(data, index=\"shot_type\", values=\"shot_id\", aggfunc='count')\n",
    "shotType_scored = pd.pivot_table(data, index=\"shot_type\", values=\"shot_made_flag\", aggfunc='sum')\n",
    "\n",
    "accuracy = shotType_scored/shot_type"
   ]
  },
  {
   "cell_type": "code",
   "execution_count": null,
   "metadata": {
    "collapsed": false
   },
   "outputs": [],
   "source": [
    "accuracy.plot.bar(title='Kobe Bryant\\n% by shot type')"
   ]
  },
  {
   "cell_type": "markdown",
   "metadata": {},
   "source": [
    "#### Notes:"
   ]
  },
  {
   "cell_type": "markdown",
   "metadata": {},
   "source": [
    "* xxx"
   ]
  },
  {
   "cell_type": "markdown",
   "metadata": {},
   "source": [
    "## 2.12. Season"
   ]
  },
  {
   "cell_type": "code",
   "execution_count": null,
   "metadata": {
    "collapsed": false
   },
   "outputs": [],
   "source": [
    "season = pd.pivot_table(data, index=\"season\", values=\"shot_id\", aggfunc='count')\n",
    "season_scored = pd.pivot_table(data, index=\"season\", values=\"shot_made_flag\", aggfunc='sum')\n",
    "\n",
    "season_accuracy = season_scored/season"
   ]
  },
  {
   "cell_type": "code",
   "execution_count": null,
   "metadata": {
    "collapsed": false
   },
   "outputs": [],
   "source": [
    "season_accuracy.plot.bar(title='Kobe Bryant\\n% by shot type')"
   ]
  },
  {
   "cell_type": "markdown",
   "metadata": {},
   "source": [
    "#### Notes: "
   ]
  },
  {
   "cell_type": "markdown",
   "metadata": {},
   "source": [
    "* xxx"
   ]
  },
  {
   "cell_type": "markdown",
   "metadata": {
    "collapsed": true
   },
   "source": [
    "# 3. kNN"
   ]
  },
  {
   "cell_type": "markdown",
   "metadata": {},
   "source": [
    "** References: **\n",
    "* http://scikit-learn.org/stable/modules/neighbors.html\n",
    "* http://www.amazon.com/Building-Machine-Learning-Systems-Python/dp/1784392774/ref=sr_1_1?ie=UTF8&qid=1461733493&sr=8-1&keywords=luis+pedro+coelho+python\n",
    "* https://www.dataquest.io/blog/k-nearest-neighbors/\n",
    "* http://stats.stackexchange.com/questions/136272/how-to-handle-data-normalization-in-knn-when-new-test-data-is-received"
   ]
  },
  {
   "cell_type": "markdown",
   "metadata": {
    "collapsed": true
   },
   "source": [
    "## 3.1. New feature matrix"
   ]
  },
  {
   "cell_type": "code",
   "execution_count": 14,
   "metadata": {
    "collapsed": false
   },
   "outputs": [],
   "source": [
    "# create design matrix\n",
    "dm = data[['loc_x', 'loc_y', 'shot_distance', 'period', 'season', 'minutes_remaining', 'seconds_remaining', 'game_date', \n",
    "           'matchup', 'shot_made_flag']]\n",
    "\n",
    "# create validation matrix\n",
    "\n",
    "V = validation_data[['loc_x', 'loc_y', 'shot_distance', 'period', 'season', 'minutes_remaining', 'seconds_remaining', 'game_date', \n",
    "           'matchup']]\n",
    "\n",
    "V_shotID = validation_data['shot_id']"
   ]
  },
  {
   "cell_type": "code",
   "execution_count": 15,
   "metadata": {
    "collapsed": false,
    "scrolled": true
   },
   "outputs": [
    {
     "name": "stderr",
     "output_type": "stream",
     "text": [
      "C:\\Users\\Pedro Marcelino\\Anaconda2\\lib\\site-packages\\pandas\\core\\indexing.py:426: SettingWithCopyWarning: \n",
      "A value is trying to be set on a copy of a slice from a DataFrame.\n",
      "Try using .loc[row_indexer,col_indexer] = value instead\n",
      "\n",
      "See the caveats in the documentation: http://pandas.pydata.org/pandas-docs/stable/indexing.html#indexing-view-versus-copy\n",
      "  self.obj[item] = s\n",
      "C:\\Users\\Pedro Marcelino\\Anaconda2\\lib\\site-packages\\pandas\\core\\indexing.py:266: SettingWithCopyWarning: \n",
      "A value is trying to be set on a copy of a slice from a DataFrame.\n",
      "Try using .loc[row_indexer,col_indexer] = value instead\n",
      "\n",
      "See the caveats in the documentation: http://pandas.pydata.org/pandas-docs/stable/indexing.html#indexing-view-versus-copy\n",
      "  self.obj[key] = _infer_fill_value(value)\n",
      "C:\\Users\\Pedro Marcelino\\Anaconda2\\lib\\site-packages\\pandas\\core\\generic.py:2862: SettingWithCopyWarning: \n",
      "A value is trying to be set on a copy of a slice from a DataFrame\n",
      "\n",
      "See the caveats in the documentation: http://pandas.pydata.org/pandas-docs/stable/indexing.html#indexing-view-versus-copy\n",
      "  self._update_inplace(new_data)\n",
      "C:\\Users\\Pedro Marcelino\\Anaconda2\\lib\\site-packages\\ipykernel\\__main__.py:31: SettingWithCopyWarning: \n",
      "A value is trying to be set on a copy of a slice from a DataFrame\n",
      "\n",
      "See the caveats in the documentation: http://pandas.pydata.org/pandas-docs/stable/indexing.html#indexing-view-versus-copy\n",
      "C:\\Users\\Pedro Marcelino\\Anaconda2\\lib\\site-packages\\ipykernel\\__main__.py:32: SettingWithCopyWarning: \n",
      "A value is trying to be set on a copy of a slice from a DataFrame\n",
      "\n",
      "See the caveats in the documentation: http://pandas.pydata.org/pandas-docs/stable/indexing.html#indexing-view-versus-copy\n",
      "C:\\Users\\Pedro Marcelino\\Anaconda2\\lib\\site-packages\\ipykernel\\__main__.py:35: SettingWithCopyWarning: \n",
      "A value is trying to be set on a copy of a slice from a DataFrame\n",
      "\n",
      "See the caveats in the documentation: http://pandas.pydata.org/pandas-docs/stable/indexing.html#indexing-view-versus-copy\n",
      "C:\\Users\\Pedro Marcelino\\Anaconda2\\lib\\site-packages\\ipykernel\\__main__.py:36: SettingWithCopyWarning: \n",
      "A value is trying to be set on a copy of a slice from a DataFrame\n",
      "\n",
      "See the caveats in the documentation: http://pandas.pydata.org/pandas-docs/stable/indexing.html#indexing-view-versus-copy\n"
     ]
    }
   ],
   "source": [
    "# modify design matrix and Validation matrix\n",
    "\n",
    "# convert shot_distance from feet to meters\n",
    "dm.loc[:,'shot_distance'] = dm['shot_distance'].apply(lambda x: x*0.3048)\n",
    "V.loc[:,'shot_distance'] = V['shot_distance'].apply(lambda x: x*0.3048)\n",
    "\n",
    "\n",
    "# add angle feature and clean NaN by assuming angle=0 when distance=0\n",
    "dm.loc[:,'angle'] = pd.Series(np.degrees(np.arctan(dm['loc_x']/dm['loc_y'])))\n",
    "dm['angle'].fillna(0, inplace=True)\n",
    "V.loc[:,'angle'] = pd.Series(np.degrees(np.arctan(V['loc_x']/V['loc_y'])))\n",
    "V['angle'].fillna(0, inplace=True)\n",
    "\n",
    "# convert matchup to Home/Away\n",
    "# Home=0, Away=1\n",
    "dm.loc[:, 'Home'] = dm['matchup'].apply(get_home_away)\n",
    "V.loc[:, 'Home'] = V['matchup'].apply(get_home_away)\n",
    "\n",
    "\n",
    "# convert seasons to first, second etc\n",
    "# needs: convert to date \n",
    "dm.loc[:,'season'] = dm['season'].apply(get_season_num)\n",
    "V.loc[:,'season'] = V['season'].apply(get_season_num)\n",
    "\n",
    "# convert minutes + seconds remaining to time remaining in quarter (in seconds)\n",
    "dm.loc[:, 'time_remaining'] = dm['minutes_remaining']*60 + dm['seconds_remaining']\n",
    "V.loc[:, 'time_remaining'] = V['minutes_remaining']*60 + V['seconds_remaining']\n",
    "\n",
    "# clean dataframe\n",
    "cols_to_delete = ['loc_x', 'loc_y', 'minutes_remaining', 'seconds_remaining', 'matchup']\n",
    "dm.drop(cols_to_delete, axis=1, inplace=True)\n",
    "V.drop(cols_to_delete, axis=1, inplace=True)\n",
    "\n",
    "# temporary: also drop game_date\n",
    "dm.drop('game_date', axis=1, inplace=True)\n",
    "V.drop('game_date', axis=1, inplace=True)"
   ]
  },
  {
   "cell_type": "code",
   "execution_count": 16,
   "metadata": {
    "collapsed": false
   },
   "outputs": [
    {
     "name": "stderr",
     "output_type": "stream",
     "text": [
      "C:\\Users\\Pedro Marcelino\\Anaconda2\\lib\\site-packages\\ipykernel\\__main__.py:2: SettingWithCopyWarning: \n",
      "A value is trying to be set on a copy of a slice from a DataFrame\n",
      "\n",
      "See the caveats in the documentation: http://pandas.pydata.org/pandas-docs/stable/indexing.html#indexing-view-versus-copy\n",
      "  from ipykernel import kernelapp as app\n"
     ]
    }
   ],
   "source": [
    "# clean NaN in shot_made_flag column\n",
    "dm.dropna(axis=0, how='any', inplace=True)\n",
    "\n",
    "# make sure no NaNs in dm\n",
    "assert dm.isnull().any().any()==False"
   ]
  },
  {
   "cell_type": "markdown",
   "metadata": {},
   "source": [
    "## 3.2. Model"
   ]
  },
  {
   "cell_type": "markdown",
   "metadata": {},
   "source": [
    "* Model definition includes **normalization** and **cross-validation**.\n",
    "* **Normalization**. We had been summing up lengths, areas, and dimensionless quantities, mixing up our units. Sometimes each feature has its own scale and can influence the estimation in different ways. We need to normalize all of the features to a common scale.\n",
    "* http://stats.stackexchange.com/questions/136272/how-to-handle-data-normalization-in-knn-when-new-test-data-is-received\n",
    "* http://scikit-learn.org/stable/modules/preprocessing.html\n",
    "* http://stackoverflow.com/questions/16137816/scikit-learn-preprocessing-svm-with-multiple-classes-in-a-pipeline"
   ]
  },
  {
   "cell_type": "code",
   "execution_count": null,
   "metadata": {
    "collapsed": false,
    "scrolled": true
   },
   "outputs": [],
   "source": [
    "from sklearn.pipeline import Pipeline\n",
    "from sklearn.preprocessing import StandardScaler\n",
    "\n",
    "kf = KFold(len(dm), n_folds=5, shuffle=True)\n",
    "\n",
    "X = dm.drop('shot_made_flag', axis=1).values\n",
    "Y = dm.shot_made_flag.values\n",
    "\n",
    "# list of average logloss for every K, to plot\n",
    "k_losses = []\n",
    "\n",
    "for i in range(1,30):\n",
    "        \n",
    "    classifier = neighbors.KNeighborsClassifier(n_neighbors=i)\n",
    "\n",
    "    # `means` will be a list of mean accuracies (one entry per fold)\n",
    "    means = []\n",
    "    \n",
    "    # losses will be a list of mean loglosses (one entry per fold)\n",
    "    losses = []\n",
    "\n",
    "    for training,testing in kf:\n",
    "        # normalizing data (source: Coelho and Richert 2015, pp. 46)\n",
    "        classifier = Pipeline([('norm', StandardScaler()),('knn', classifier)])\n",
    "        # We fit a model for this fold, then apply it to the testing data with `predict`:\n",
    "        classifier.fit(X[training], Y[training])\n",
    "        prediction = classifier.predict(X[testing])\n",
    "\n",
    "        # np.mean on an array of booleans returns fraction of correct decisions for this fold:\n",
    "        curmean = np.mean(prediction == Y[testing])\n",
    "        means.append(curmean)\n",
    "        \n",
    "        # compute probabilities and logloss\n",
    "        probabilities = classifier.predict_proba(X[testing])\n",
    "        probs_make = probabilities[:,1]\n",
    "        \n",
    "        loss = logloss(Y[testing], probs_make)\n",
    "        losses.append(loss)\n",
    "        \n",
    "#    print(\"n_neighbors: {}\".format(i))\n",
    "#    print(\"Mean accuracy: {:.1%}\".format(np.mean(means)))\n",
    "#    print(\"Mean LogLoss: {:.3}\".format(np.mean(losses)))\n",
    "    \n",
    "    k_losses.append(np.mean(losses))"
   ]
  },
  {
   "cell_type": "code",
   "execution_count": null,
   "metadata": {
    "collapsed": false
   },
   "outputs": [],
   "source": [
    "# plot logloss\n",
    "plt.plot(k_losses, color='r', linewidth=2)\n",
    "plt.xlabel(\"Neighbours\")\n",
    "plt.title(\"Log loss\")"
   ]
  },
  {
   "cell_type": "markdown",
   "metadata": {},
   "source": [
    "## 3.3. Set up submission"
   ]
  },
  {
   "cell_type": "code",
   "execution_count": null,
   "metadata": {
    "collapsed": false
   },
   "outputs": [],
   "source": [
    "# use KNN model to predict labels for V\n",
    "# use 4 neighbours (suggested by crossvalidation results above)\n",
    "\n",
    "neighbs = 21\n",
    "\n",
    "classifier = neighbors.KNeighborsClassifier(n_neighbors=neighbs)\n",
    "classifier.fit(X, Y)\n",
    "\n",
    "probabilities = classifier.predict_proba(V)\n",
    "p_makes = probabilities[:,1]"
   ]
  },
  {
   "cell_type": "code",
   "execution_count": null,
   "metadata": {
    "collapsed": true
   },
   "outputs": [],
   "source": [
    "# write submission file\n",
    "write_kaggle_submission(V, p_makes)"
   ]
  },
  {
   "cell_type": "markdown",
   "metadata": {},
   "source": [
    "# 4. SVC"
   ]
  },
  {
   "cell_type": "markdown",
   "metadata": {},
   "source": [
    "**References: **\n",
    "* http://scikit-learn.org/stable/modules/generated/sklearn.svm.SVC.html#sklearn.svm.SVC\n",
    "* http://scikit-learn.org/stable/modules/generated/sklearn.grid_search.GridSearchCV.html"
   ]
  },
  {
   "cell_type": "markdown",
   "metadata": {},
   "source": [
    "## 4.1. New feature matrix"
   ]
  },
  {
   "cell_type": "code",
   "execution_count": null,
   "metadata": {
    "collapsed": true
   },
   "outputs": [],
   "source": [
    "# create design matrix\n",
    "dm = data[['loc_x', 'loc_y', 'shot_distance', 'period', 'season', 'minutes_remaining', 'seconds_remaining', 'game_date', \n",
    "           'matchup', 'shot_made_flag']]\n",
    "\n",
    "# create validation matrix\n",
    "\n",
    "V = validation_data[['loc_x', 'loc_y', 'shot_distance', 'period', 'season', 'minutes_remaining', 'seconds_remaining', 'game_date', \n",
    "           'matchup']]\n",
    "\n",
    "V_shotID = validation_data['shot_id']"
   ]
  },
  {
   "cell_type": "code",
   "execution_count": null,
   "metadata": {
    "collapsed": true
   },
   "outputs": [],
   "source": [
    "# modify design matrix and Validation matrix\n",
    "\n",
    "# convert shot_distance from feet to meters\n",
    "dm.loc[:,'shot_distance'] = dm['shot_distance'].apply(lambda x: x*0.3048)\n",
    "V.loc[:,'shot_distance'] = V['shot_distance'].apply(lambda x: x*0.3048)\n",
    "\n",
    "\n",
    "# add angle feature and clean NaN by assuming angle=0 when distance=0\n",
    "dm.loc[:,'angle'] = pd.Series(np.degrees(np.arctan(dm['loc_x']/dm['loc_y'])))\n",
    "dm['angle'].fillna(0, inplace=True)\n",
    "V.loc[:,'angle'] = pd.Series(np.degrees(np.arctan(V['loc_x']/V['loc_y'])))\n",
    "V['angle'].fillna(0, inplace=True)\n",
    "\n",
    "# convert matchup to Home/Away\n",
    "# Home=0, Away=1\n",
    "dm.loc[:, 'Home'] = dm['matchup'].apply(get_home_away)\n",
    "V.loc[:, 'Home'] = V['matchup'].apply(get_home_away)\n",
    "\n",
    "\n",
    "# convert seasons to first, second etc\n",
    "# needs: convert to date \n",
    "dm.loc[:,'season'] = dm['season'].apply(get_season_num)\n",
    "V.loc[:,'season'] = V['season'].apply(get_season_num)\n",
    "\n",
    "# convert minutes + seconds remaining to time remaining in quarter (in seconds)\n",
    "dm.loc[:, 'time_remaining'] = dm['minutes_remaining']*60 + dm['seconds_remaining']\n",
    "V.loc[:, 'time_remaining'] = V['minutes_remaining']*60 + V['seconds_remaining']\n",
    "\n",
    "# clean dataframe\n",
    "cols_to_delete = ['loc_x', 'loc_y', 'minutes_remaining', 'seconds_remaining', 'matchup']\n",
    "dm.drop(cols_to_delete, axis=1, inplace=True)\n",
    "V.drop(cols_to_delete, axis=1, inplace=True)\n",
    "\n",
    "# temporary: also drop game_date\n",
    "dm.drop('game_date', axis=1, inplace=True)\n",
    "V.drop('game_date', axis=1, inplace=True)"
   ]
  },
  {
   "cell_type": "code",
   "execution_count": null,
   "metadata": {
    "collapsed": true
   },
   "outputs": [],
   "source": [
    "# clean NaN in shot_made_flag column\n",
    "dm.dropna(axis=0, how='any', inplace=True)\n",
    "\n",
    "# make sure no NaNs in dm\n",
    "assert dm.isnull().any().any()==False"
   ]
  },
  {
   "cell_type": "markdown",
   "metadata": {},
   "source": [
    "## 4.2. Model"
   ]
  },
  {
   "cell_type": "code",
   "execution_count": null,
   "metadata": {
    "collapsed": true
   },
   "outputs": [],
   "source": [
    "from sklearn.svm import SVC\n",
    "from sklearn.pipeline import Pipeline\n",
    "from sklearn.preprocessing import StandardScaler\n",
    "\n",
    "kf = KFold(len(dm), n_folds=5, shuffle=True)\n",
    "\n",
    "# prepare data to predict shot_made_flag\n",
    "X = dm.drop('shot_made_flag', axis=1).values\n",
    "Y = dm.shot_made_flag.values\n",
    "\n",
    "classifier = SVC(probability=True)\n",
    "\n",
    "# list of average logloss for every kf, to plot\n",
    "k_losses = []\n",
    "\n",
    "# `means` will be a list of mean accuracies (one entry per fold)\n",
    "means = []\n",
    "    \n",
    "# losses will be a list of mean loglosses (one entry per fold)\n",
    "losses = []\n",
    "\n",
    "for training,testing in kf:\n",
    "    # normalizing data (source: Coelho and Richert 2015, pp. 46)\n",
    "    classifier = Pipeline([('norm', StandardScaler()),('svc', classifier)])\n",
    "    # We fit a model for this fold, then apply it to the testing data with `predict`:\n",
    "    classifier.fit(X[training], Y[training])\n",
    "    prediction = classifier.predict(X[testing])\n",
    "    \n",
    "    # we are not outputing this right now\n",
    "    # np.mean on an array of booleans returns fraction of correct decisions for this fold:\n",
    "    curmean = np.mean(prediction == Y[testing])\n",
    "    means.append(curmean)\n",
    "        \n",
    "    # compute probabilities and logloss\n",
    "    probabilities = classifier.predict_proba(X[testing])\n",
    "    probs_make = probabilities[:,1]\n",
    "        \n",
    "    loss = logloss(Y[testing], probs_make)\n",
    "    losses.append(loss)\n",
    "        \n",
    "k_losses.append(np.mean(losses))"
   ]
  },
  {
   "cell_type": "code",
   "execution_count": 32,
   "metadata": {
    "collapsed": false
   },
   "outputs": [
    {
     "data": {
      "text/plain": [
       "[0.66779793238240204]"
      ]
     },
     "execution_count": 32,
     "metadata": {},
     "output_type": "execute_result"
    }
   ],
   "source": [
    "k_losses"
   ]
  },
  {
   "cell_type": "markdown",
   "metadata": {},
   "source": [
    "## 4.3. Optimized model"
   ]
  },
  {
   "cell_type": "markdown",
   "metadata": {},
   "source": [
    "* Parameters optimization\n",
    "* Takes too much time thinking..."
   ]
  },
  {
   "cell_type": "markdown",
   "metadata": {},
   "source": [
    "**References:**\n",
    "* http://www.csie.ntu.edu.tw/~cjlin/papers/guide/guide.pdf\n",
    "* http://scikit-learn.org/stable/modules/generated/sklearn.grid_search.GridSearchCV.html"
   ]
  },
  {
   "cell_type": "code",
   "execution_count": null,
   "metadata": {
    "collapsed": true
   },
   "outputs": [],
   "source": [
    "from sklearn.svm import SVC\n",
    "from sklearn.pipeline import Pipeline\n",
    "from sklearn.preprocessing import StandardScaler\n",
    "\n",
    "from sklearn import svm, grid_search\n",
    "\n",
    "kf = KFold(len(dm), n_folds=5, shuffle=True)\n",
    "\n",
    "# prepare data to predict shot_made_flag\n",
    "X = dm.drop('shot_made_flag', axis=1).values\n",
    "Y = dm.shot_made_flag.values\n",
    "\n",
    "svr = SVC(probability=True)\n",
    "\n",
    "# list of average logloss for every kf, to plot\n",
    "k_losses = []\n",
    "\n",
    "# `means` will be a list of mean accuracies (one entry per fold)\n",
    "means = []\n",
    "    \n",
    "# losses will be a list of mean loglosses (one entry per fold)\n",
    "losses = []\n",
    "\n",
    "# prepare data to optimize parameters\n",
    "parameters = {'C':[1, 10], 'gamma':[1, 10]}\n",
    "\n",
    "clf = grid_search.GridSearchCV(svr, parameters)\n",
    "\n",
    "for training,testing in kf:\n",
    "    # normalizing data (source: Coelho and Richert 2015, pp. 46)\n",
    "    classifier = Pipeline([('norm', StandardScaler()),('svc', clf)])\n",
    "    # We fit a model for this fold, then apply it to the testing data with `predict`:\n",
    "    classifier.fit(X[training], Y[training])\n",
    "    prediction = classifier.predict(X[testing])\n",
    "    \n",
    "    # we are not outputing this right now\n",
    "    # np.mean on an array of booleans returns fraction of correct decisions for this fold:\n",
    "    curmean = np.mean(prediction == Y[testing])\n",
    "    means.append(curmean)\n",
    "        \n",
    "    # compute probabilities and logloss\n",
    "    probabilities = classifier.predict_proba(X[testing])\n",
    "    probs_make = probabilities[:,1]\n",
    "        \n",
    "    loss = logloss(Y[testing], probs_make)\n",
    "    losses.append(loss)\n",
    "        \n",
    "k_losses.append(np.mean(losses))"
   ]
  },
  {
   "cell_type": "markdown",
   "metadata": {},
   "source": [
    "## 4.4. Set up submission"
   ]
  },
  {
   "cell_type": "code",
   "execution_count": null,
   "metadata": {
    "collapsed": true
   },
   "outputs": [],
   "source": [
    "# write submission file\n",
    "write_kaggle_submission(V, probs_makes)"
   ]
  }
 ],
 "metadata": {
  "kernelspec": {
   "display_name": "Python 2",
   "language": "python",
   "name": "python2"
  },
  "language_info": {
   "codemirror_mode": {
    "name": "ipython",
    "version": 2
   },
   "file_extension": ".py",
   "mimetype": "text/x-python",
   "name": "python",
   "nbconvert_exporter": "python",
   "pygments_lexer": "ipython2",
   "version": "2.7.11"
  }
 },
 "nbformat": 4,
 "nbformat_minor": 0
}
