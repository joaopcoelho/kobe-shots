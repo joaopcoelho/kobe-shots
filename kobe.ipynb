{
 "cells": [
  {
   "cell_type": "code",
   "execution_count": null,
   "metadata": {
    "collapsed": false
   },
   "outputs": [],
   "source": [
    "import pandas as pd\n",
    "import numpy as np\n",
    "import matplotlib.pyplot as plt\n",
    "import seaborn as sns\n",
    "import time\n",
    "\n",
    "import scipy as sp\n",
    "\n",
    "from matplotlib.pylab import rcParams\n",
    "from sklearn import neighbors\n",
    "from sklearn.cross_validation import train_test_split\n",
    "from sklearn.cross_validation import KFold\n",
    "\n",
    "%matplotlib inline"
   ]
  },
  {
   "cell_type": "markdown",
   "metadata": {},
   "source": [
    "# Useful functions"
   ]
  },
  {
   "cell_type": "code",
   "execution_count": null,
   "metadata": {
    "collapsed": true
   },
   "outputs": [],
   "source": [
    "#convert shot flags to colors\n",
    "def flag_colors(flag):\n",
    "    if flag == 1: return 'green'\n",
    "    if flag == 0: return 'red'\n",
    "    return 'black'"
   ]
  },
  {
   "cell_type": "code",
   "execution_count": null,
   "metadata": {
    "collapsed": false
   },
   "outputs": [],
   "source": [
    "# convert matchup string to Home=1, away=0\n",
    "# example: LAL @ POR: home=0\n",
    "# example: LAL vs. POR: home=1\n",
    "def get_home_away(string):\n",
    "    if '@' in string: return 0 #away\n",
    "    elif 'vs' in string : return 1 #home\n",
    "    else: return \"ACORDA CRL\""
   ]
  },
  {
   "cell_type": "code",
   "execution_count": null,
   "metadata": {
    "collapsed": true
   },
   "outputs": [],
   "source": [
    "# convert season in format '1999-00' to \n",
    "# example: '1999-00': 3\n",
    "def get_season_num(year):\n",
    "    # year is in format '2009-10'\n",
    "    year0 = 1996\n",
    "    y = year[:4]\n",
    "    y_int = int(y)\n",
    "    \n",
    "    return y_int - year0\n",
    "\n",
    "#quick asserts\n",
    "assert get_season_num('2010-11') == 14\n",
    "assert get_home_away('LAL @ POR') == 0\n",
    "assert get_home_away('LAL vs UTA') == 1    "
   ]
  },
  {
   "cell_type": "code",
   "execution_count": null,
   "metadata": {
    "collapsed": true
   },
   "outputs": [],
   "source": [
    "def write_kaggle_submission(df, probs, output_file='kobe_submission.csv'):\n",
    "    \"\"\"\n",
    "    write output to kaggle format (for kobe competition)\n",
    "    \n",
    "    Input:\n",
    "        df (pandas dataframe): dataframe used for predicting probabilities\n",
    "        probs (numpy array): array of probability values\n",
    "        \n",
    "    Output:\n",
    "        None\n",
    "    \n",
    "    Side effects:\n",
    "        creates csv file \"output_file\"\n",
    "        \n",
    "    Comments:\n",
    "        number of rows in df should match size of probs array\n",
    "    \"\"\"\n",
    "\n",
    "    # create new Series with df indexes as shot_id and probs values as shot_made_flag\n",
    "    \n",
    "    data_values = probs\n",
    "    index_values = df.index.values +1\n",
    "    data_dict = {'shot_id': index_values, 'shot_made_flag': data_values}\n",
    "    \n",
    "    df_towrite = pd.DataFrame(data = data_dict)\n",
    "    \n",
    "    df_towrite.to_csv(output_file, header=True, index=False)\n",
    "    \n",
    "    return"
   ]
  },
  {
   "cell_type": "markdown",
   "metadata": {},
   "source": [
    "# Import data"
   ]
  },
  {
   "cell_type": "code",
   "execution_count": null,
   "metadata": {
    "collapsed": false
   },
   "outputs": [],
   "source": [
    "data = pd.read_csv('data.csv')\n",
    "data.head()"
   ]
  },
  {
   "cell_type": "code",
   "execution_count": null,
   "metadata": {
    "collapsed": false
   },
   "outputs": [],
   "source": [
    "list(data.columns.values)"
   ]
  },
  {
   "cell_type": "markdown",
   "metadata": {},
   "source": [
    "# Notes"
   ]
  },
  {
   "cell_type": "markdown",
   "metadata": {},
   "source": [
    "* Can we improve the missing data strategy?\n",
    "* Are all the limitations to algorithm application verified?\n",
    "\n",
    "* prevent leakage: train only on shots prior to the ones we're predicting (year)\n",
    "* select features and then explore number of neighbours\n",
    "\n",
    "* target: score=0.75"
   ]
  },
  {
   "cell_type": "markdown",
   "metadata": {},
   "source": [
    "# Preprocessing"
   ]
  },
  {
   "cell_type": "code",
   "execution_count": null,
   "metadata": {
    "collapsed": false
   },
   "outputs": [],
   "source": [
    "# TRAINING AND TEST DATA\n",
    "train_data, test_data = train_test_split(data, test_size = 0.2, random_state = 0)"
   ]
  },
  {
   "cell_type": "code",
   "execution_count": null,
   "metadata": {
    "collapsed": false
   },
   "outputs": [],
   "source": [
    "# MISSING DATA\n",
    "# don't consider rows with shot_made_flag = NaN\n",
    "train_data = train_data[np.isfinite(train_data['shot_made_flag'])]\n",
    "test_data = test_data[np.isfinite(test_data['shot_made_flag'])]"
   ]
  },
  {
   "cell_type": "code",
   "execution_count": null,
   "metadata": {
    "collapsed": false
   },
   "outputs": [],
   "source": [
    "# extract validation set\n",
    "validation_data = data[data['shot_made_flag'].isnull()]"
   ]
  },
  {
   "cell_type": "markdown",
   "metadata": {},
   "source": [
    "   # Exploring features"
   ]
  },
  {
   "cell_type": "markdown",
   "metadata": {},
   "source": [
    "### Correlation matrix"
   ]
  },
  {
   "cell_type": "code",
   "execution_count": null,
   "metadata": {
    "collapsed": false
   },
   "outputs": [],
   "source": [
    "cm = data.corr()\n",
    "cm.loc['shot_made_flag']"
   ]
  },
  {
   "cell_type": "markdown",
   "metadata": {
    "collapsed": true
   },
   "source": [
    "#### Comments:"
   ]
  },
  {
   "cell_type": "markdown",
   "metadata": {},
   "source": [
    "* Needs normalization"
   ]
  },
  {
   "cell_type": "markdown",
   "metadata": {},
   "source": [
    "### Opponent"
   ]
  },
  {
   "cell_type": "code",
   "execution_count": null,
   "metadata": {
    "collapsed": false
   },
   "outputs": [],
   "source": [
    "total_shots = pd.pivot_table(data, index=\"opponent\", values=\"shot_id\", aggfunc='count')\n",
    "shots_scored = pd.pivot_table(data, index=\"opponent\", values=\"shot_made_flag\", aggfunc='sum')\n",
    "\n",
    "accuracy = shots_scored/total_shots"
   ]
  },
  {
   "cell_type": "code",
   "execution_count": null,
   "metadata": {
    "collapsed": false
   },
   "outputs": [],
   "source": [
    "accuracy.plot.bar(title='Kobe Bryant\\n% by opponent')"
   ]
  },
  {
   "cell_type": "markdown",
   "metadata": {},
   "source": [
    "#### Comments:"
   ]
  },
  {
   "cell_type": "markdown",
   "metadata": {},
   "source": [
    "* xxx"
   ]
  },
  {
   "cell_type": "markdown",
   "metadata": {},
   "source": [
    "### Shots by distance"
   ]
  },
  {
   "cell_type": "code",
   "execution_count": null,
   "metadata": {
    "collapsed": false
   },
   "outputs": [],
   "source": [
    "total_distance = pd.pivot_table(data, index=\"shot_distance\", values=\"shot_id\", aggfunc='count')\n",
    "shots_scored = pd.pivot_table(data, index=\"shot_distance\", values=\"shot_made_flag\", aggfunc='sum')\n",
    "\n",
    "accuracy = shots_scored/total_distance"
   ]
  },
  {
   "cell_type": "code",
   "execution_count": null,
   "metadata": {
    "collapsed": false
   },
   "outputs": [],
   "source": [
    "accuracy.plot.bar(title='Kobe Bryant\\n% by distance')\n",
    "plt.axis([0, 30, 0, .6])"
   ]
  },
  {
   "cell_type": "markdown",
   "metadata": {},
   "source": [
    "#### Comments:"
   ]
  },
  {
   "cell_type": "markdown",
   "metadata": {},
   "source": [
    "* Strange values when shot_distance = 0"
   ]
  },
  {
   "cell_type": "markdown",
   "metadata": {},
   "source": [
    "### Minutes remaining"
   ]
  },
  {
   "cell_type": "code",
   "execution_count": null,
   "metadata": {
    "collapsed": true
   },
   "outputs": [],
   "source": [
    "minutes = pd.pivot_table(data, index=\"minutes_remaining\", values=\"shot_id\", aggfunc='count')\n",
    "shots_scored = pd.pivot_table(data, index=\"minutes_remaining\", values=\"shot_made_flag\", aggfunc='sum')\n",
    "\n",
    "accuracy = shots_scored/minutes"
   ]
  },
  {
   "cell_type": "code",
   "execution_count": null,
   "metadata": {
    "collapsed": false
   },
   "outputs": [],
   "source": [
    "accuracy.plot.bar(title='Kobe Bryant\\n% by minutes remaining')\n",
    "plt.axis([0, 11, 0, .5])"
   ]
  },
  {
   "cell_type": "markdown",
   "metadata": {},
   "source": [
    "#### Comments:"
   ]
  },
  {
   "cell_type": "markdown",
   "metadata": {},
   "source": [
    "* Accuracy decreases in minutes_remaining = 0"
   ]
  },
  {
   "cell_type": "markdown",
   "metadata": {},
   "source": [
    "### Seconds remaining + Period"
   ]
  },
  {
   "cell_type": "code",
   "execution_count": null,
   "metadata": {
    "collapsed": false
   },
   "outputs": [],
   "source": [
    "seconds = pd.pivot_table(data, index=[ \"seconds_remaining\", 'period'], values=\"shot_id\", aggfunc='count')\n",
    "shots_scored = pd.pivot_table(data, index=[ \"seconds_remaining\", 'period'], values=\"shot_made_flag\", aggfunc='sum')\n",
    "\n",
    "accuracy = shots_scored/seconds"
   ]
  },
  {
   "cell_type": "code",
   "execution_count": null,
   "metadata": {
    "collapsed": false
   },
   "outputs": [],
   "source": [
    "accuracy"
   ]
  },
  {
   "cell_type": "markdown",
   "metadata": {},
   "source": [
    "#### Comments:"
   ]
  },
  {
   "cell_type": "markdown",
   "metadata": {},
   "source": [
    "* xxx"
   ]
  },
  {
   "cell_type": "markdown",
   "metadata": {
    "collapsed": true
   },
   "source": [
    "### Shots by zone range"
   ]
  },
  {
   "cell_type": "code",
   "execution_count": null,
   "metadata": {
    "collapsed": false,
    "scrolled": true
   },
   "outputs": [],
   "source": [
    "shot_zones = pd.pivot_table(data, index=\"shot_zone_range\", values=\"shot_id\", aggfunc='count')\n",
    "shot_zones_pct = shot_zones/shot_zones.sum()\n",
    "\n",
    "# change order\n",
    "shot_zones_pct = shot_zones_pct.reindex(index=['Less Than 8 ft.',  u'8-16 ft.', u'16-24 ft.', u'24+ ft.', u'Back Court Shot'])\n",
    "shot_zones_pct.plot.bar(title='Kobe Bryant\\n% by zone range')"
   ]
  },
  {
   "cell_type": "code",
   "execution_count": null,
   "metadata": {
    "collapsed": false,
    "scrolled": true
   },
   "outputs": [],
   "source": [
    "# let's try plotting all of his shots and show if miss or hit\n",
    "\n",
    "shots_pos = data[['loc_x', 'loc_y']]\n",
    "shot_colors = map(flag_colors, data.shot_made_flag)\n",
    "shots_pos.plot.scatter(x='loc_x', y='loc_y', s=5, c=shot_colors, ylim=(0,400), figsize=(10,5))"
   ]
  },
  {
   "cell_type": "markdown",
   "metadata": {},
   "source": [
    "#### Comments:"
   ]
  },
  {
   "cell_type": "markdown",
   "metadata": {},
   "source": [
    "* Heat map to understand accuracy"
   ]
  },
  {
   "cell_type": "markdown",
   "metadata": {},
   "source": [
    "### Shots by action type"
   ]
  },
  {
   "cell_type": "code",
   "execution_count": null,
   "metadata": {
    "collapsed": false
   },
   "outputs": [],
   "source": [
    "shots_actionType = pd.pivot_table(data, index=\"action_type\", values=\"shot_id\", aggfunc='count')\n",
    "shots_actionType.plot.bar(title='Kobe Bryant\\naction type')"
   ]
  },
  {
   "cell_type": "markdown",
   "metadata": {},
   "source": [
    "#### Comments:"
   ]
  },
  {
   "cell_type": "markdown",
   "metadata": {},
   "source": [
    "* xxx"
   ]
  },
  {
   "cell_type": "markdown",
   "metadata": {
    "collapsed": true
   },
   "source": [
    "### Combined shot type"
   ]
  },
  {
   "cell_type": "code",
   "execution_count": null,
   "metadata": {
    "collapsed": false
   },
   "outputs": [],
   "source": [
    "shots_combined = pd.pivot_table(data, index=\"combined_shot_type\", values=\"shot_id\", aggfunc='count')\n",
    "combined_scored = pd.pivot_table(data, index=\"combined_shot_type\", values=\"shot_made_flag\", aggfunc='sum')\n",
    "\n",
    "accuracy = combined_scored / shots_combined"
   ]
  },
  {
   "cell_type": "code",
   "execution_count": null,
   "metadata": {
    "collapsed": false
   },
   "outputs": [],
   "source": [
    "accuracy.plot.bar(title='Kobe Bryant\\n% combined shot type')"
   ]
  },
  {
   "cell_type": "markdown",
   "metadata": {},
   "source": [
    "#### Comments:"
   ]
  },
  {
   "cell_type": "markdown",
   "metadata": {},
   "source": [
    "* xxx"
   ]
  },
  {
   "cell_type": "markdown",
   "metadata": {},
   "source": [
    "### Shots by period"
   ]
  },
  {
   "cell_type": "code",
   "execution_count": null,
   "metadata": {
    "collapsed": false
   },
   "outputs": [],
   "source": [
    "shots_period = pd.pivot_table(data, index=\"period\", values=\"shot_id\", aggfunc='count')\n",
    "period_scored = pd.pivot_table(data, index=\"period\", values=\"shot_made_flag\", aggfunc='sum')\n",
    "\n",
    "accuracy = period_scored/shots_period"
   ]
  },
  {
   "cell_type": "code",
   "execution_count": null,
   "metadata": {
    "collapsed": false
   },
   "outputs": [],
   "source": [
    "accuracy.plot.bar(title='Kobe Bryant\\n% by period')"
   ]
  },
  {
   "cell_type": "markdown",
   "metadata": {},
   "source": [
    "#### Comments:"
   ]
  },
  {
   "cell_type": "markdown",
   "metadata": {},
   "source": [
    "* xxx"
   ]
  },
  {
   "cell_type": "markdown",
   "metadata": {},
   "source": [
    "### Playoffs"
   ]
  },
  {
   "cell_type": "code",
   "execution_count": null,
   "metadata": {
    "collapsed": false
   },
   "outputs": [],
   "source": [
    "playoff_shots = pd.pivot_table(data, index=\"playoffs\", values=\"shot_id\", aggfunc='count')\n",
    "playoff_scored = pd.pivot_table(data, index=\"playoffs\", values=\"shot_made_flag\", aggfunc='sum')\n",
    "\n",
    "accuracy = playoff_scored/playoff_shots"
   ]
  },
  {
   "cell_type": "code",
   "execution_count": null,
   "metadata": {
    "collapsed": false
   },
   "outputs": [],
   "source": [
    "accuracy.plot.bar(title='Kobe Bryant\\n% by playoff')"
   ]
  },
  {
   "cell_type": "markdown",
   "metadata": {},
   "source": [
    "#### Comments:"
   ]
  },
  {
   "cell_type": "markdown",
   "metadata": {},
   "source": [
    "* Playoffs vs regular season makes no difference"
   ]
  },
  {
   "cell_type": "markdown",
   "metadata": {},
   "source": [
    "### Shot type"
   ]
  },
  {
   "cell_type": "code",
   "execution_count": null,
   "metadata": {
    "collapsed": false
   },
   "outputs": [],
   "source": [
    "shot_type = pd.pivot_table(data, index=\"shot_type\", values=\"shot_id\", aggfunc='count')\n",
    "shotType_scored = pd.pivot_table(data, index=\"shot_type\", values=\"shot_made_flag\", aggfunc='sum')\n",
    "\n",
    "accuracy = shotType_scored/shot_type"
   ]
  },
  {
   "cell_type": "code",
   "execution_count": null,
   "metadata": {
    "collapsed": false
   },
   "outputs": [],
   "source": [
    "accuracy.plot.bar(title='Kobe Bryant\\n% by shot type')"
   ]
  },
  {
   "cell_type": "markdown",
   "metadata": {},
   "source": [
    "#### Comments:"
   ]
  },
  {
   "cell_type": "markdown",
   "metadata": {},
   "source": [
    "* xxx"
   ]
  },
  {
   "cell_type": "markdown",
   "metadata": {},
   "source": [
    "### Season"
   ]
  },
  {
   "cell_type": "code",
   "execution_count": null,
   "metadata": {
    "collapsed": false
   },
   "outputs": [],
   "source": [
    "season = pd.pivot_table(data, index=\"season\", values=\"shot_id\", aggfunc='count')\n",
    "season_scored = pd.pivot_table(data, index=\"season\", values=\"shot_made_flag\", aggfunc='sum')\n",
    "\n",
    "season_accuracy = season_scored/season"
   ]
  },
  {
   "cell_type": "code",
   "execution_count": null,
   "metadata": {
    "collapsed": false
   },
   "outputs": [],
   "source": [
    "season_accuracy.plot.bar(title='Kobe Bryant\\n% by shot type')"
   ]
  },
  {
   "cell_type": "markdown",
   "metadata": {},
   "source": [
    "#### Comments: "
   ]
  },
  {
   "cell_type": "markdown",
   "metadata": {},
   "source": [
    "* xxx"
   ]
  },
  {
   "cell_type": "markdown",
   "metadata": {},
   "source": [
    "## Missing Analysis"
   ]
  },
  {
   "cell_type": "markdown",
   "metadata": {},
   "source": [
    "* Home/away\n",
    "* Time of the year\n",
    "* Location\n",
    "* Day of the week"
   ]
  },
  {
   "cell_type": "markdown",
   "metadata": {
    "collapsed": true
   },
   "source": [
    "# 1. kNN"
   ]
  },
  {
   "cell_type": "markdown",
   "metadata": {},
   "source": [
    "** References: **\n",
    "* http://scikit-learn.org/stable/modules/neighbors.html\n",
    "* http://www.amazon.com/Building-Machine-Learning-Systems-Python/dp/1784392774/ref=sr_1_1?ie=UTF8&qid=1461733493&sr=8-1&keywords=luis+pedro+coelho+python\n",
    "* https://www.dataquest.io/blog/k-nearest-neighbors/\n",
    "* http://stats.stackexchange.com/questions/136272/how-to-handle-data-normalization-in-knn-when-new-test-data-is-received"
   ]
  },
  {
   "cell_type": "markdown",
   "metadata": {
    "collapsed": true
   },
   "source": [
    "## New feature matrix"
   ]
  },
  {
   "cell_type": "code",
   "execution_count": null,
   "metadata": {
    "collapsed": false
   },
   "outputs": [],
   "source": [
    "# create design matrix\n",
    "dm = data[['loc_x', 'loc_y', 'shot_distance', 'period', 'season', 'minutes_remaining', 'seconds_remaining', 'game_date', \n",
    "           'matchup', 'shot_made_flag']]\n",
    "\n",
    "# create validation matrix\n",
    "\n",
    "V = validation_data[['loc_x', 'loc_y', 'shot_distance', 'period', 'season', 'minutes_remaining', 'seconds_remaining', 'game_date', \n",
    "           'matchup']]\n",
    "\n",
    "V_shotID = validation_data['shot_id']"
   ]
  },
  {
   "cell_type": "code",
   "execution_count": null,
   "metadata": {
    "collapsed": false,
    "scrolled": true
   },
   "outputs": [],
   "source": [
    "# modify design matrix and Validation matrix\n",
    "\n",
    "# convert shot_distance from feet to meters\n",
    "dm.loc[:,'shot_distance'] = dm['shot_distance'].apply(lambda x: x*0.3048)\n",
    "V.loc[:,'shot_distance'] = V['shot_distance'].apply(lambda x: x*0.3048)\n",
    "\n",
    "\n",
    "# add angle feature and clean NaN by assuming angle=0 when distance=0\n",
    "dm.loc[:,'angle'] = pd.Series(np.degrees(np.arctan(dm['loc_x']/dm['loc_y'])))\n",
    "dm['angle'].fillna(0, inplace=True)\n",
    "V.loc[:,'angle'] = pd.Series(np.degrees(np.arctan(V['loc_x']/V['loc_y'])))\n",
    "V['angle'].fillna(0, inplace=True)\n",
    "\n",
    "# convert matchup to Home/Away\n",
    "# Home=0, Away=1\n",
    "dm.loc[:, 'Home'] = dm['matchup'].apply(get_home_away)\n",
    "V.loc[:, 'Home'] = V['matchup'].apply(get_home_away)\n",
    "\n",
    "\n",
    "# convert seasons to first, second etc\n",
    "# needs: convert to date \n",
    "dm.loc[:,'season'] = dm['season'].apply(get_season_num)\n",
    "V.loc[:,'season'] = V['season'].apply(get_season_num)\n",
    "\n",
    "# convert minutes + seconds remaining to time remaining in quarter (in seconds)\n",
    "dm.loc[:, 'time_remaining'] = dm['minutes_remaining']*60 + dm['seconds_remaining']\n",
    "V.loc[:, 'time_remaining'] = V['minutes_remaining']*60 + V['seconds_remaining']\n",
    "\n",
    "# clean dataframe\n",
    "cols_to_delete = ['loc_x', 'loc_y', 'minutes_remaining', 'seconds_remaining', 'matchup']\n",
    "dm.drop(cols_to_delete, axis=1, inplace=True)\n",
    "V.drop(cols_to_delete, axis=1, inplace=True)\n",
    "\n",
    "# temporary: also drop game_date\n",
    "dm.drop('game_date', axis=1, inplace=True)\n",
    "V.drop('game_date', axis=1, inplace=True)"
   ]
  },
  {
   "cell_type": "code",
   "execution_count": null,
   "metadata": {
    "collapsed": false
   },
   "outputs": [],
   "source": [
    "# clean NaN in shot_made_flag column\n",
    "dm.dropna(axis=0, how='any', inplace=True)\n",
    "\n",
    "# make sure no NaNs in dm\n",
    "assert dm.isnull().any().any()==False"
   ]
  },
  {
   "cell_type": "markdown",
   "metadata": {},
   "source": [
    "## Cross-validation"
   ]
  },
  {
   "cell_type": "code",
   "execution_count": null,
   "metadata": {
    "collapsed": false
   },
   "outputs": [],
   "source": [
    "kf = KFold(len(dm), n_folds=5, shuffle=True)\n",
    "\n",
    "X = dm.drop('shot_made_flag', axis=1).values\n",
    "Y = dm.shot_made_flag.values\n",
    "\n",
    "for i in range(1,10):\n",
    "    \n",
    "    loglossTotal = 0\n",
    "    \n",
    "    classifier = neighbors.KNeighborsClassifier(n_neighbors=i)\n",
    "\n",
    "    # `means` will be a list of mean accuracies (one entry per fold)\n",
    "    means = []\n",
    "\n",
    "    for training,testing in kf:\n",
    "        # We fit a model for this fold, then apply it to the testing data with `predict`:\n",
    "        classifier.fit(X[training], Y[training])\n",
    "        prediction = classifier.predict(X[testing])\n",
    "\n",
    "        # np.mean on an array of booleans returns fraction of correct decisions for this fold:\n",
    "        curmean = np.mean(prediction == Y[testing])\n",
    "        means.append(curmean)\n",
    "        \n",
    "    print(\"n_neighbors: {}\".format(i))\n",
    "    print(\"Mean accuracy: {:.1%}\".format(np.mean(means)))\n",
    "    l.append(np.mean(means))\n",
    "    "
   ]
  },
  {
   "cell_type": "code",
   "execution_count": null,
   "metadata": {
    "collapsed": false
   },
   "outputs": [],
   "source": [
    "type(Y)"
   ]
  },
  {
   "cell_type": "markdown",
   "metadata": {},
   "source": [
    "# ACTUAL RESULTS FOR SUBMISSION"
   ]
  },
  {
   "cell_type": "code",
   "execution_count": 135,
   "metadata": {
    "collapsed": false
   },
   "outputs": [],
   "source": [
    "# use KNN model to predict labels for V\n",
    "# use 4 neighbours (suggested by crossvalidation results above)\n",
    "\n",
    "neighbs = 67\n",
    "\n",
    "classifier = neighbors.KNeighborsClassifier(n_neighbors=neighbs)\n",
    "classifier.fit(X, Y)\n",
    "\n",
    "probabilities = classifier.predict_proba(V)\n",
    "p_makes = probabilities[:,1]\n",
    "    \n",
    "write_kaggle_submission(V, p_makes)"
   ]
  },
  {
   "cell_type": "markdown",
   "metadata": {},
   "source": [
    "# Time series"
   ]
  },
  {
   "cell_type": "code",
   "execution_count": null,
   "metadata": {
    "collapsed": true
   },
   "outputs": [],
   "source": []
  },
  {
   "cell_type": "markdown",
   "metadata": {},
   "source": [
    "** References: **\n",
    "* http://www.analyticsvidhya.com/blog/2016/02/time-series-forecasting-codes-python/"
   ]
  },
  {
   "cell_type": "raw",
   "metadata": {},
   "source": [
    "### Time series matrix"
   ]
  },
  {
   "cell_type": "code",
   "execution_count": null,
   "metadata": {
    "collapsed": false
   },
   "outputs": [],
   "source": [
    "ts = data\n",
    "dateparse = lambda dates: pd.datetime.strptime(dates, '%Y-%m-%d')\n",
    "ts.game_date = map(dateparse, ts.game_date)"
   ]
  },
  {
   "cell_type": "code",
   "execution_count": null,
   "metadata": {
    "collapsed": false
   },
   "outputs": [],
   "source": [
    "ts = data.set_index('game_date')"
   ]
  },
  {
   "cell_type": "markdown",
   "metadata": {},
   "source": [
    "### Check stationarity"
   ]
  },
  {
   "cell_type": "markdown",
   "metadata": {},
   "source": [
    "For practical purposes we can assume the series to be stationary if it has constant statistical properties over time, ie. the following:\n",
    "\n",
    "* constant mean\n",
    "* constant variance\n",
    "* an autocovariance that does not depend on time."
   ]
  },
  {
   "cell_type": "code",
   "execution_count": null,
   "metadata": {
    "collapsed": false
   },
   "outputs": [],
   "source": [
    "shots = pd.pivot_table(ts, index=ts.index, values=\"shot_id\", aggfunc='count')\n",
    "scored = pd.pivot_table(ts, index=ts.index, values=\"shot_made_flag\", aggfunc='sum')\n",
    "accuracy = scored/shots\n",
    "\n",
    "x = ts.index.unique().sort_values()\n",
    "y_year = accuracy.groupby(by=accuracy.index.year).mean()\n",
    "\n",
    "plt.plot(y_year)\n",
    "plt.title('Accuracy per season')"
   ]
  },
  {
   "cell_type": "code",
   "execution_count": null,
   "metadata": {
    "collapsed": false
   },
   "outputs": [],
   "source": [
    "y_month = accuracy.groupby(by=accuracy.index.month).mean()\n",
    "plt.plot(y_month)\n",
    "plt.title('Accuracy per month')"
   ]
  },
  {
   "cell_type": "code",
   "execution_count": null,
   "metadata": {
    "collapsed": false
   },
   "outputs": [],
   "source": [
    "y_day = accuracy.groupby(by=accuracy.index.day).mean()\n",
    "plt.plot(y_day)\n",
    "plt.title('Accuracy per day')"
   ]
  },
  {
   "cell_type": "code",
   "execution_count": null,
   "metadata": {
    "collapsed": false
   },
   "outputs": [],
   "source": [
    "#in construction\n",
    "y = accuracy.groupby(by=[accuracy.index.year, accuracy.index.month]).mean()"
   ]
  },
  {
   "cell_type": "code",
   "execution_count": null,
   "metadata": {
    "collapsed": false
   },
   "outputs": [],
   "source": [
    "ts.index.unique().sort_values()"
   ]
  },
  {
   "cell_type": "code",
   "execution_count": null,
   "metadata": {
    "collapsed": false
   },
   "outputs": [],
   "source": [
    "y.index"
   ]
  },
  {
   "cell_type": "code",
   "execution_count": null,
   "metadata": {
    "collapsed": false
   },
   "outputs": [],
   "source": [
    "plt.plot(y.index, y)"
   ]
  },
  {
   "cell_type": "markdown",
   "metadata": {},
   "source": [
    "** Dickey-Fuller test **\n",
    "*  If the ‘Test Statistic’ is less than the ‘Critical Value’, we can reject the null hypothesis and say that the series is stationary\n",
    "* Signed values should be compared and not the absolute values\n",
    "* For example, if the test statistic is smaller than the 5% critical values, we can say with 95% confidence that this is a stationary series"
   ]
  },
  {
   "cell_type": "code",
   "execution_count": null,
   "metadata": {
    "collapsed": true
   },
   "outputs": [],
   "source": [
    "from statsmodels.tsa.stattools import adfuller\n",
    "def test_stationarity(timeseries):\n",
    "    \n",
    "    #Determing rolling statistics\n",
    "    rolmean = pd.rolling_mean(timeseries, window=12)\n",
    "    rolstd = pd.rolling_std(timeseries, window=12)\n",
    "\n",
    "    #Plot rolling statistics:\n",
    "    orig = plt.plot(timeseries, color='blue',label='Original')\n",
    "    mean = plt.plot(rolmean, color='red', label='Rolling Mean')\n",
    "    std = plt.plot(rolstd, color='black', label = 'Rolling Std')\n",
    "    plt.legend(loc='best')\n",
    "    plt.title('Rolling Mean & Standard Deviation')\n",
    "    plt.show(block=False)\n",
    "    \n",
    "    #Perform Dickey-Fuller test:\n",
    "    print 'Results of Dickey-Fuller Test:'\n",
    "    dftest = adfuller(timeseries, autolag='AIC')\n",
    "    dfoutput = pd.Series(dftest[0:4], index=['Test Statistic','p-value','#Lags Used','Number of Observations Used'])\n",
    "    for key,value in dftest[4].items():\n",
    "        dfoutput['Critical Value (%s)'%key] = value\n",
    "    print dfoutput"
   ]
  },
  {
   "cell_type": "code",
   "execution_count": null,
   "metadata": {
    "collapsed": false
   },
   "outputs": [],
   "source": [
    "test_stationarity(y_year)"
   ]
  },
  {
   "cell_type": "markdown",
   "metadata": {},
   "source": [
    "** Conclusion: **\n",
    "* Non-stationary series"
   ]
  },
  {
   "cell_type": "markdown",
   "metadata": {},
   "source": [
    "### Making time series stationary"
   ]
  },
  {
   "cell_type": "code",
   "execution_count": null,
   "metadata": {
    "collapsed": true
   },
   "outputs": [],
   "source": []
  },
  {
   "cell_type": "code",
   "execution_count": null,
   "metadata": {
    "collapsed": true
   },
   "outputs": [],
   "source": []
  },
  {
   "cell_type": "code",
   "execution_count": null,
   "metadata": {
    "collapsed": true
   },
   "outputs": [],
   "source": []
  },
  {
   "cell_type": "code",
   "execution_count": null,
   "metadata": {
    "collapsed": true
   },
   "outputs": [],
   "source": []
  },
  {
   "cell_type": "code",
   "execution_count": null,
   "metadata": {
    "collapsed": true
   },
   "outputs": [],
   "source": []
  },
  {
   "cell_type": "code",
   "execution_count": null,
   "metadata": {
    "collapsed": true
   },
   "outputs": [],
   "source": []
  }
 ],
 "metadata": {
  "kernelspec": {
   "display_name": "Python 2",
   "language": "python",
   "name": "python2"
  },
  "language_info": {
   "codemirror_mode": {
    "name": "ipython",
    "version": 2
   },
   "file_extension": ".py",
   "mimetype": "text/x-python",
   "name": "python",
   "nbconvert_exporter": "python",
   "pygments_lexer": "ipython2",
   "version": "2.7.11"
  }
 },
 "nbformat": 4,
 "nbformat_minor": 0
}
